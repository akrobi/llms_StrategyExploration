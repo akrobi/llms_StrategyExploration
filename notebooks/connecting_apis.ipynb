{
 "cells": [
  {
   "cell_type": "markdown",
   "metadata": {},
   "source": [
    "# Connecting to free language learing model APIs"
   ]
  },
  {
   "cell_type": "markdown",
   "metadata": {},
   "source": [
    "## 1. Co:here"
   ]
  },
  {
   "cell_type": "code",
   "execution_count": 1,
   "metadata": {},
   "outputs": [],
   "source": [
    "# import libraries\n",
    "import pandas as pd\n",
    "import cohere\n",
    "from sklearn.model_selection import train_test_split\n",
    "pd.set_option('display.max_colwidth', None)"
   ]
  },
  {
   "cell_type": "code",
   "execution_count": 11,
   "metadata": {},
   "outputs": [],
   "source": [
    "# get the data\n",
    "df = pd.read_excel(\"../data/Example_data.xlsx\")"
   ]
  },
  {
   "cell_type": "code",
   "execution_count": 13,
   "metadata": {},
   "outputs": [
    {
     "data": {
      "text/html": [
       "<div>\n",
       "<style scoped>\n",
       "    .dataframe tbody tr th:only-of-type {\n",
       "        vertical-align: middle;\n",
       "    }\n",
       "\n",
       "    .dataframe tbody tr th {\n",
       "        vertical-align: top;\n",
       "    }\n",
       "\n",
       "    .dataframe thead th {\n",
       "        text-align: right;\n",
       "    }\n",
       "</style>\n",
       "<table border=\"1\" class=\"dataframe\">\n",
       "  <thead>\n",
       "    <tr style=\"text-align: right;\">\n",
       "      <th></th>\n",
       "      <th>Domain</th>\n",
       "      <th>Title</th>\n",
       "      <th>Description</th>\n",
       "      <th>Body</th>\n",
       "      <th>Link</th>\n",
       "      <th>timestamp</th>\n",
       "      <th>Analyst_Average_Score</th>\n",
       "      <th>Analyst_Rank</th>\n",
       "      <th>Reference_Final_Score</th>\n",
       "    </tr>\n",
       "  </thead>\n",
       "  <tbody>\n",
       "    <tr>\n",
       "      <th>0</th>\n",
       "      <td>rassegnastampa.news</td>\n",
       "      <td>Boris Johnson using a taxpayer-funded jet for an election campaign fits a long history of taking things he didn't pay for</td>\n",
       "      <td>…often trigger a protest vote that can upset…that ministers who breach the Ministerial Code…plane up the M1 in order to…serious questions about abuse of taxpayers' money which is a clear breach of the code.…should not permit abuse of taxpayers' money…</td>\n",
       "      <td>Boris Johnson using a taxpayer-funded jet for an election campaign fits a long history of taking things he didn't pay for A biographer of Johnson and a former colleague said that Johnson's flight to Hartlepool in an election campaign is totally in character. - Boris Johnson flew in a tax-funded private jet to campaign in the Hartlepool by-election. - The trip may have breached ministerial rules, though officials are reluctant to investigate. - Skirting rules and taking freebies is typical of Johnson, as those close to him have noted. - [See more stories on Insider's business page] . Evacuating yourself into Afghanistan is an unusual move, but one that Boris Johnson made anyway. In June 2018, on the day of a crucial vote on the expansion of London's Heathrow airport, the then-foreign secretary discovered he had urgent business in Kabul, placing him more than 3,500 miles from parliament. Had Johnson been in Westminster, he would have faced a choice: follow Prime Minister Theresa May's instructions to vote with the government in support of the new runway, or resign and fulfil the promise he made on his election in 2015, to \"lie down in front of those bulldozers and stop the construction of that third runway\". Johnson spent less than a day in Kabul. But the trip cost taxpayers £26,848. More importantly for Johnson, the 3,500-mile journey got him off the hook, in a classic example of what one of his biographers calls his \"disregard for the spirit and sometimes the letter of the rules\". A private plane, a motorcade of four cars, and a police escort Almost three years later, on April Fools' Day 2021, Johnson was on a plane again, flying from London Stansted to Teesside International in the northeast of England. Planespotters captured Johnson's private government jet arriving. The plane is chartered by his government under a [£15-million-a-year contract]( ) , and is emblazoned with \"United Kingdom\" on the side and the Union Jack on the tailfin. Video shows Johnson departing the plane with a motorcade of four cars and a police motorcycle escort. He left for Middlesbrough, nine miles from the airport. Johnson's business in Middlesbrough was at B&amp;Q, a DIY store, to celebrate his government's policy of increasing the National Minimum Wage. But after his official visit, he was driven the short distance from Middlesbrough to an industrial estate outside Hartlepool. Tense campaigning, dirty tricks, and outré stunts Hartlepool was in the middle of a parliamentary by-election triggered by the resignation of Mike Hill, the latest in a long line of Labour MPs to represent the town. In Britain, by-elections are occasional spectacles that feature tense campaigning and dirty tricks. Parties will flood even \"safe\" by-election seats with volunteers and staff - because by-elections often trigger a protest vote that can upset decades of tradition. They also feature rafts of novelty candidates attracted by the media attention and the opportunity to stand shoulder-to-shoulder with the more favoured candidates when the results are read out live on TV. [Johnson himself had been forced to stand next to Lord Buckethead, Elmo, and Count Binface]( ) to hear the results of the 2019 vote in his constituency.) For the Conservatives, Hartlepool was a crucial test. Nearly 17 months since their huge win in the 2019 general election, was Johnson still popular enough to flip Labour's heartlands and turn them blue? It is highly unusual for a governing party to flip a seat: it has only happened five times since the end of World War II, each time from Labour to the Conservatives. It was with his typical gusto that Johnson met the Conservative candidate, Jill Mortimer, at a medical equipment manufacturer on the industrial estate, telling the media that she was a \"fantastic candidate\" and the by-election was a \"moment of change and opportunity\". After their visit, they went to a nearby housing estate, posed for photographs with tradesmen, delivered leaflets, and filmed with Ben Houchen, the Conservative Party candidate for the Tees Valley mayoral election, which was going on at the same time. Photos of Mortimer with Johnson from the visit were later used in further leaflets telling constituents that \"your vote can secure positive change in Hartlepool\", as seen in [a tweet by Tory MP Chris Pincher]( ) . Johnson's time in Hartlepool was plainly an act of political campaigning. On May 6, both Conservative candidates won their races: Mortimer and Houchen were elected as MP and mayor respectively. 'Nil' on transport A month later, the Conservatives' election agent, Diane Clarke, signed and submitted the party's candidate spending returns, a legal record of expenses incurred during the election. Insider acquired a copy of the spending returns for all the major parties in the Hartlepool by-election. There were some interesting points: Labour spent nearly £900 on flyers covered in St. George's Flag, its latest in a series of tortured attempt to demonstrate its patriotism. Reform UK (the successor to Nigel Farage's Brexit Party) spent more than £20,000 but received only 368 votes. And the Conservative Party said it had spent \"nil\" on transport. Johnson had carried off a trick of his own: he used a private jet and had everyone else pay for it. 'He knows he can be brazen, he has been all his life, because persistently he gets away with it' The Ministerial Code is the handbook describing how ministers should behave. One recent change has been the end of the convention that ministers who breach the Ministerial Code should resign. Among the rules set out in the Code is a requirement that ministers do not use government resources for party political purposes. Another is that \"where a visit is a mix of political and official engagements, it is important that the department and the Party each meet a proper proportion of the actual cost\". Given Johnson travelled to Teesside for a political and an official engagement, the Conservative Party's claim to have spent nothing on transport suggests the taxpayer paid the full costs of Johnson's trip, breaching the rules. Sonia Purnell wrote a biography of Johnson in 2011, having worked with him early in his career as a journalist. She says this is typical of him. \"This raises the usual questions about Boris Johnson's disregard for the spirit and sometimes the letter of the rules,\" she told Insider. \"The fact is he knows he can be brazen, he has been all his life, because persistently he gets away with it.\" \"What surprises and depresses me is that the rules that should apply most of all to the Prime Minister in this country do not seem to be any longer enforced or observed. This is a sad thing for the country as a whole, that we no longer consider fair play to be part of our national character and ambition.\" 'That claim is essentially implausible' The Conservative Party has, throughout, denied wrongdoing. Initially, when asked whether the party had met the proper proportion of costs, a spokesperson told Insider: \"Tours and associated costs [...] were all declared in accordance with the rules and feature on the return under 'Staff Costs.'\" \"All candidate election expenses were included in the return made in accordance with the Representation of the People Act,\" the party said, referring to a piece of UK election legislation. Requests for a breakdown of the staff costs expenditure went unanswered. In later statements, the party continued to insist it covered \"all relevant costs\". A spokesperson told Insider: \"CCHQ [Conservative Campaign Headquarters] covered all relevant costs associated with the political visit on 1st April in accordance with the Ministerial Code, and reported relevant candidate spending in accordance with the Representation of the People's Act 1983.\" \"The Prime Minister's air travel to Middlesbrough was a Government organised flight, carrying the PM and civil servants to an officially organised, Government visit. It was unrelated to CCHQ campaigning activity and did not promote candidates.\" The party's argument is that it was a happy coincidence Johnson flew to the closest airport to Hartlepool for official business. The party did not explain how the phrase \"did not promote candidates\" applied to Johnson's appearance that day to promote both candidates. 'There appears to be no doubt at all that the Prime Minister breached the code' In 2001, Johnson hired the journalist Peter Oborne as political editor at The Spectator. Oborne is now a staunch critic of Johnson. Earlier this year he published a book on Johnson titled, \"The Assault on Truth: Boris Johnson, Donald Trump and the Emergence of a New Moral Barbarism\". \"The Conservative Party says that the flight was only commissioned as part of an official government visit, that claim is essentially implausible - the Prime Minister campaigned while he was there. There's footage of him doing so,\" Oborne told Insider. \"Boris Johnson has a long record of contempt for the ministerial code. Just look at the series of false statements he's made in defiance of the code to Parliament. Judging by the facts exposed by Insider, there appears to be no doubt at all that the Prime Minister breached the code.\" Johnson has a track record of accepting freebies The government has consistently denied wrongdoing, and suggest Johnson's visit was part of his \"levelling up agenda\". Chloe Smith MP, Minister of State for the Constitution and Devolution, told Insider: \"All travel by the Prime Minister was in line with the provisions of the Ministerial Code, and all the appropriate rules were correctly followed in relation to the costs of the subsequent political visit. \"As part of the Government's levelling up agenda, it's entirely right that Ministers meet and listen to people in every part of the United Kingdom.\" Downing Street has pointed to another part of the Ministerial Code which says the Prime Minister \"may use their official cars for all journeys by road, including those for private or Party purposes.\" [Anneliese Dodds MP, the chair of the Labour Party]( ) , wrote to her counterpart, Amanda Milling MP, co-chair of the Conservative Party, unconvinced by Downing Street's defence. \"That is interesting, but unless the Prime Minister taxied his plane up the M1 in order to reach Hartlepool - and I am perfectly happy to be corrected if it transpires that was the case - then I fail to see the relevance,\" she said. Flying a chartered jet is expensive. One quote for the aircraft Johnson flew in from Stansted to Teesside suggests a cost of £120,000, according to [the charter website PrivateFly]( ) . Election spending in the UK is strictly controlled by law: the total spending limit in a by-election for each candidate is £100,000. Johnson has a track record of accepting freebies without asking too many questions. They include: - A [£52,802 Downing Street flat refurbishment] , initially paid for by Tory donor Lord Brownlow and later paid back by Johnson, which is currently under investigation by the Electoral Commission. - [His £15,000 Caribbean holiday in late 2019] , paid for by Tory donor David Ross. - And [more than £27,000 worth of organic food and drink] delivered to Downing Street, offered at below regular cost by the wife of a Tory donor, Lady Bamford. Downing Street insisted that Johnson pays for all his own food. Police are 'reviewing correspondence' - but the Prime Minister's independent adviser won't investigate In the UK, questions over candidate spending at a local level are not handled by the Electoral Commission, the regulator responsible for monitoring national political financing and expenditure. Instead, local police forces are responsible for investigating potential breaches of the main piece of legislation that covers candidate expenditure. Breaches can range from undeclared donations and spending to going over the spending limit. Following Insider's reporting, [Cleveland Police confirmed it had seen recent media reports]( ) and was \"reviewing correspondence\". The police have no powers to investigate breaches of the Ministerial Code. That power is in the hands of the Prime Minister, who can ask his independent adviser on ministers' interests to investigate, working with the top civil servant, the Cabinet Secretary. But Lord Geidt, the independent adviser, [denied a request by the Labour Party to investigate the matter]( ) . In his letter refusing the request, Geidt said that \"the application of election spending law is a matter for the political parties concerned and the Electoral Commission.\" His response ignores that potential breaches of laws covering candidate spending are matters for the police, not the Electoral Commission. Oborne said the refusal to investigate was \"baffling\". \"Lord Geidt seems not to understand the rules on by-election spending. This basic failure of comprehension means it is impossible for Lord Geidt to reach an independent judgment. He is taking the government's explanation at face value,\" Oborne told Insider. \"This failure to investigate also reflects very badly on [Cabinet Secretary] Simon Case. There are very serious questions about abuse of taxpayers' money which is a clear breach of the code. It is really welcome that the local police are reviewing correspondence on this issue. But these questions should go higher up than that. Simon Case, the Cabinet Secretary, should not permit abuse of taxpayers' money in this way, and should be a guardian of civil service neutrality. \"There is now a clear pattern of Boris Johnson and other cabinet ministers breaking the Ministerial Code on a systematic basis,\" Oborne concluded. \"It's almost as if the Ministerial Code does not exist.\" [Business Insider]</td>\n",
       "      <td>https://rassegnastampa.news/boris-johnson-using-a-taxpayer-funded-jet-for-an-election-campaign-fits-a-long-history-of-taking-things-he-didnt-pay-for</td>\n",
       "      <td>2021-09-09T18:17:46.258006</td>\n",
       "      <td>0.0</td>\n",
       "      <td>4</td>\n",
       "      <td>1.96</td>\n",
       "    </tr>\n",
       "  </tbody>\n",
       "</table>\n",
       "</div>"
      ],
      "text/plain": [
       "                Domain  \\\n",
       "0  rassegnastampa.news   \n",
       "\n",
       "                                                                                                                       Title  \\\n",
       "0  Boris Johnson using a taxpayer-funded jet for an election campaign fits a long history of taking things he didn't pay for   \n",
       "\n",
       "                                                                                                                                                                                                                                                   Description  \\\n",
       "0  …often trigger a protest vote that can upset…that ministers who breach the Ministerial Code…plane up the M1 in order to…serious questions about abuse of taxpayers' money which is a clear breach of the code.…should not permit abuse of taxpayers' money…   \n",
       "\n",
       "                                                                                                                                                                                                                                                                                                                                                                                                                                                                                                                                                                                                                                                                                                                                                                                                                                                                                                                                                                                                                                                                                                                                                                                                                                                                                                                                                                                                                                                                                                                                                                                                                                                                                                                                                                                                                                                                                                                                                                                                                                                                                                                                                                                                                                                                                                                                                                                                                                                                                                                                                                                                                                                                                                                                                                                                                                                                                                                                                                                                                                                                                                                                                                                                                                                                                                                                                                                                                                                                                                                                                                                                                                                                                                                                                                                                                                                                                                                                                                                                                                                                                                                                                                                                                                                                                                                                                                                                                                                                                                                                                                                                                                                                                                                                                                                                                                                                                                                                                                                                                                                                                                                                                                                                                                                                                                                                                                                                                                                                                                                                                                                                                                                                                                                                                                                                                                                                                                                                                                                                                                                                                                                                                                                                                                                                                                                                                                                                                                                                                                                                                                                                                                                                                                                                                                                                                                                                                                                                                                                                                                                                                                                                                                                                                                                                                                                                                                                                                                                                                                                                                                                                                                                                                                                                                                                                                                                                                                                                                                                                                                                                                                                                                                                                                                                                                                                                                                                                                                                                                                                                                                                                                                                                                                                                                                                                                                                                                                                                                                                                                                                                                                                                                                                                                                                                                                                                                                                                                                                                                                                                                                                                                                                                                                                                                                                                                                                                                                                                                                                                                                                                                                                                                                                                                                                                                                                                                                                                                                                                                                                                                                                                                                                                                                                                                                                                                                                                                                                                                                                                                                                                                                                                                                                                                                                                                                                                                                                                                                                                                                                                                                                                                                                                                                                                                                                                                                                                                                                                                                                                                                                                                                                                                                                                                                                                                                                                                                                                                                                                                                                                                                                                                                                                                                                                                                                                                                                                                                                                                                                                                                                                                                                                                                                                                                                                                                                                                                                                                                                                                                                                                                                                                                                                                                                                                                                                                                                                                                                                                                                                                                                                                                                                                                                                                                                                               Body  \\\n",
       "0  Boris Johnson using a taxpayer-funded jet for an election campaign fits a long history of taking things he didn't pay for A biographer of Johnson and a former colleague said that Johnson's flight to Hartlepool in an election campaign is totally in character. - Boris Johnson flew in a tax-funded private jet to campaign in the Hartlepool by-election. - The trip may have breached ministerial rules, though officials are reluctant to investigate. - Skirting rules and taking freebies is typical of Johnson, as those close to him have noted. - [See more stories on Insider's business page] . Evacuating yourself into Afghanistan is an unusual move, but one that Boris Johnson made anyway. In June 2018, on the day of a crucial vote on the expansion of London's Heathrow airport, the then-foreign secretary discovered he had urgent business in Kabul, placing him more than 3,500 miles from parliament. Had Johnson been in Westminster, he would have faced a choice: follow Prime Minister Theresa May's instructions to vote with the government in support of the new runway, or resign and fulfil the promise he made on his election in 2015, to \"lie down in front of those bulldozers and stop the construction of that third runway\". Johnson spent less than a day in Kabul. But the trip cost taxpayers £26,848. More importantly for Johnson, the 3,500-mile journey got him off the hook, in a classic example of what one of his biographers calls his \"disregard for the spirit and sometimes the letter of the rules\". A private plane, a motorcade of four cars, and a police escort Almost three years later, on April Fools' Day 2021, Johnson was on a plane again, flying from London Stansted to Teesside International in the northeast of England. Planespotters captured Johnson's private government jet arriving. The plane is chartered by his government under a [£15-million-a-year contract]( ) , and is emblazoned with \"United Kingdom\" on the side and the Union Jack on the tailfin. Video shows Johnson departing the plane with a motorcade of four cars and a police motorcycle escort. He left for Middlesbrough, nine miles from the airport. Johnson's business in Middlesbrough was at B&Q, a DIY store, to celebrate his government's policy of increasing the National Minimum Wage. But after his official visit, he was driven the short distance from Middlesbrough to an industrial estate outside Hartlepool. Tense campaigning, dirty tricks, and outré stunts Hartlepool was in the middle of a parliamentary by-election triggered by the resignation of Mike Hill, the latest in a long line of Labour MPs to represent the town. In Britain, by-elections are occasional spectacles that feature tense campaigning and dirty tricks. Parties will flood even \"safe\" by-election seats with volunteers and staff - because by-elections often trigger a protest vote that can upset decades of tradition. They also feature rafts of novelty candidates attracted by the media attention and the opportunity to stand shoulder-to-shoulder with the more favoured candidates when the results are read out live on TV. [Johnson himself had been forced to stand next to Lord Buckethead, Elmo, and Count Binface]( ) to hear the results of the 2019 vote in his constituency.) For the Conservatives, Hartlepool was a crucial test. Nearly 17 months since their huge win in the 2019 general election, was Johnson still popular enough to flip Labour's heartlands and turn them blue? It is highly unusual for a governing party to flip a seat: it has only happened five times since the end of World War II, each time from Labour to the Conservatives. It was with his typical gusto that Johnson met the Conservative candidate, Jill Mortimer, at a medical equipment manufacturer on the industrial estate, telling the media that she was a \"fantastic candidate\" and the by-election was a \"moment of change and opportunity\". After their visit, they went to a nearby housing estate, posed for photographs with tradesmen, delivered leaflets, and filmed with Ben Houchen, the Conservative Party candidate for the Tees Valley mayoral election, which was going on at the same time. Photos of Mortimer with Johnson from the visit were later used in further leaflets telling constituents that \"your vote can secure positive change in Hartlepool\", as seen in [a tweet by Tory MP Chris Pincher]( ) . Johnson's time in Hartlepool was plainly an act of political campaigning. On May 6, both Conservative candidates won their races: Mortimer and Houchen were elected as MP and mayor respectively. 'Nil' on transport A month later, the Conservatives' election agent, Diane Clarke, signed and submitted the party's candidate spending returns, a legal record of expenses incurred during the election. Insider acquired a copy of the spending returns for all the major parties in the Hartlepool by-election. There were some interesting points: Labour spent nearly £900 on flyers covered in St. George's Flag, its latest in a series of tortured attempt to demonstrate its patriotism. Reform UK (the successor to Nigel Farage's Brexit Party) spent more than £20,000 but received only 368 votes. And the Conservative Party said it had spent \"nil\" on transport. Johnson had carried off a trick of his own: he used a private jet and had everyone else pay for it. 'He knows he can be brazen, he has been all his life, because persistently he gets away with it' The Ministerial Code is the handbook describing how ministers should behave. One recent change has been the end of the convention that ministers who breach the Ministerial Code should resign. Among the rules set out in the Code is a requirement that ministers do not use government resources for party political purposes. Another is that \"where a visit is a mix of political and official engagements, it is important that the department and the Party each meet a proper proportion of the actual cost\". Given Johnson travelled to Teesside for a political and an official engagement, the Conservative Party's claim to have spent nothing on transport suggests the taxpayer paid the full costs of Johnson's trip, breaching the rules. Sonia Purnell wrote a biography of Johnson in 2011, having worked with him early in his career as a journalist. She says this is typical of him. \"This raises the usual questions about Boris Johnson's disregard for the spirit and sometimes the letter of the rules,\" she told Insider. \"The fact is he knows he can be brazen, he has been all his life, because persistently he gets away with it.\" \"What surprises and depresses me is that the rules that should apply most of all to the Prime Minister in this country do not seem to be any longer enforced or observed. This is a sad thing for the country as a whole, that we no longer consider fair play to be part of our national character and ambition.\" 'That claim is essentially implausible' The Conservative Party has, throughout, denied wrongdoing. Initially, when asked whether the party had met the proper proportion of costs, a spokesperson told Insider: \"Tours and associated costs [...] were all declared in accordance with the rules and feature on the return under 'Staff Costs.'\" \"All candidate election expenses were included in the return made in accordance with the Representation of the People Act,\" the party said, referring to a piece of UK election legislation. Requests for a breakdown of the staff costs expenditure went unanswered. In later statements, the party continued to insist it covered \"all relevant costs\". A spokesperson told Insider: \"CCHQ [Conservative Campaign Headquarters] covered all relevant costs associated with the political visit on 1st April in accordance with the Ministerial Code, and reported relevant candidate spending in accordance with the Representation of the People's Act 1983.\" \"The Prime Minister's air travel to Middlesbrough was a Government organised flight, carrying the PM and civil servants to an officially organised, Government visit. It was unrelated to CCHQ campaigning activity and did not promote candidates.\" The party's argument is that it was a happy coincidence Johnson flew to the closest airport to Hartlepool for official business. The party did not explain how the phrase \"did not promote candidates\" applied to Johnson's appearance that day to promote both candidates. 'There appears to be no doubt at all that the Prime Minister breached the code' In 2001, Johnson hired the journalist Peter Oborne as political editor at The Spectator. Oborne is now a staunch critic of Johnson. Earlier this year he published a book on Johnson titled, \"The Assault on Truth: Boris Johnson, Donald Trump and the Emergence of a New Moral Barbarism\". \"The Conservative Party says that the flight was only commissioned as part of an official government visit, that claim is essentially implausible - the Prime Minister campaigned while he was there. There's footage of him doing so,\" Oborne told Insider. \"Boris Johnson has a long record of contempt for the ministerial code. Just look at the series of false statements he's made in defiance of the code to Parliament. Judging by the facts exposed by Insider, there appears to be no doubt at all that the Prime Minister breached the code.\" Johnson has a track record of accepting freebies The government has consistently denied wrongdoing, and suggest Johnson's visit was part of his \"levelling up agenda\". Chloe Smith MP, Minister of State for the Constitution and Devolution, told Insider: \"All travel by the Prime Minister was in line with the provisions of the Ministerial Code, and all the appropriate rules were correctly followed in relation to the costs of the subsequent political visit. \"As part of the Government's levelling up agenda, it's entirely right that Ministers meet and listen to people in every part of the United Kingdom.\" Downing Street has pointed to another part of the Ministerial Code which says the Prime Minister \"may use their official cars for all journeys by road, including those for private or Party purposes.\" [Anneliese Dodds MP, the chair of the Labour Party]( ) , wrote to her counterpart, Amanda Milling MP, co-chair of the Conservative Party, unconvinced by Downing Street's defence. \"That is interesting, but unless the Prime Minister taxied his plane up the M1 in order to reach Hartlepool - and I am perfectly happy to be corrected if it transpires that was the case - then I fail to see the relevance,\" she said. Flying a chartered jet is expensive. One quote for the aircraft Johnson flew in from Stansted to Teesside suggests a cost of £120,000, according to [the charter website PrivateFly]( ) . Election spending in the UK is strictly controlled by law: the total spending limit in a by-election for each candidate is £100,000. Johnson has a track record of accepting freebies without asking too many questions. They include: - A [£52,802 Downing Street flat refurbishment] , initially paid for by Tory donor Lord Brownlow and later paid back by Johnson, which is currently under investigation by the Electoral Commission. - [His £15,000 Caribbean holiday in late 2019] , paid for by Tory donor David Ross. - And [more than £27,000 worth of organic food and drink] delivered to Downing Street, offered at below regular cost by the wife of a Tory donor, Lady Bamford. Downing Street insisted that Johnson pays for all his own food. Police are 'reviewing correspondence' - but the Prime Minister's independent adviser won't investigate In the UK, questions over candidate spending at a local level are not handled by the Electoral Commission, the regulator responsible for monitoring national political financing and expenditure. Instead, local police forces are responsible for investigating potential breaches of the main piece of legislation that covers candidate expenditure. Breaches can range from undeclared donations and spending to going over the spending limit. Following Insider's reporting, [Cleveland Police confirmed it had seen recent media reports]( ) and was \"reviewing correspondence\". The police have no powers to investigate breaches of the Ministerial Code. That power is in the hands of the Prime Minister, who can ask his independent adviser on ministers' interests to investigate, working with the top civil servant, the Cabinet Secretary. But Lord Geidt, the independent adviser, [denied a request by the Labour Party to investigate the matter]( ) . In his letter refusing the request, Geidt said that \"the application of election spending law is a matter for the political parties concerned and the Electoral Commission.\" His response ignores that potential breaches of laws covering candidate spending are matters for the police, not the Electoral Commission. Oborne said the refusal to investigate was \"baffling\". \"Lord Geidt seems not to understand the rules on by-election spending. This basic failure of comprehension means it is impossible for Lord Geidt to reach an independent judgment. He is taking the government's explanation at face value,\" Oborne told Insider. \"This failure to investigate also reflects very badly on [Cabinet Secretary] Simon Case. There are very serious questions about abuse of taxpayers' money which is a clear breach of the code. It is really welcome that the local police are reviewing correspondence on this issue. But these questions should go higher up than that. Simon Case, the Cabinet Secretary, should not permit abuse of taxpayers' money in this way, and should be a guardian of civil service neutrality. \"There is now a clear pattern of Boris Johnson and other cabinet ministers breaking the Ministerial Code on a systematic basis,\" Oborne concluded. \"It's almost as if the Ministerial Code does not exist.\" [Business Insider]   \n",
       "\n",
       "                                                                                                                                                   Link  \\\n",
       "0  https://rassegnastampa.news/boris-johnson-using-a-taxpayer-funded-jet-for-an-election-campaign-fits-a-long-history-of-taking-things-he-didnt-pay-for   \n",
       "\n",
       "                    timestamp  Analyst_Average_Score  Analyst_Rank  \\\n",
       "0  2021-09-09T18:17:46.258006                    0.0             4   \n",
       "\n",
       "   Reference_Final_Score  \n",
       "0                   1.96  "
      ]
     },
     "execution_count": 13,
     "metadata": {},
     "output_type": "execute_result"
    }
   ],
   "source": [
    "# look at data\n",
    "df.head(1)"
   ]
  },
  {
   "cell_type": "code",
   "execution_count": 14,
   "metadata": {},
   "outputs": [
    {
     "data": {
      "text/plain": [
       "(10, 9)"
      ]
     },
     "execution_count": 14,
     "metadata": {},
     "output_type": "execute_result"
    }
   ],
   "source": [
    "df.shape"
   ]
  },
  {
   "cell_type": "code",
   "execution_count": 17,
   "metadata": {},
   "outputs": [],
   "source": [
    "# df.index()"
   ]
  },
  {
   "cell_type": "code",
   "execution_count": 20,
   "metadata": {},
   "outputs": [],
   "source": [
    "# create a sample dataset\n",
    "num_examples = 5\n",
    "df_sample = df.sample(num_examples)"
   ]
  },
  {
   "cell_type": "code",
   "execution_count": 22,
   "metadata": {},
   "outputs": [],
   "source": [
    "# split into training and testing sets\n",
    "# we set the 'Body' column as the prompt and the 'Analyst_Average_Score' col as the target variable\n",
    "sentences_train, sentences_test, labels_train, labels_test = train_test_split(list(df_sample['Body']), \n",
    "                                                                list(df_sample['Analyst_Average_Score']), \n",
    "                                                                test_size=0.25, \n",
    "                                                                random_state=0)"
   ]
  },
  {
   "cell_type": "markdown",
   "metadata": {},
   "source": [
    "### Getting the embeddings of the item content"
   ]
  },
  {
   "cell_type": "code",
   "execution_count": 23,
   "metadata": {},
   "outputs": [],
   "source": [
    "# connecting to the api\n",
    "api_key = \"i5BJ67vhgp95kK7G6RSxEKVpjbeRJUwIufURVEnX\"\n",
    "\n",
    "# creating and retrieving a cohere API key from os.cohere.ai\n",
    "co = cohere.Client(api_key)"
   ]
  },
  {
   "cell_type": "code",
   "execution_count": 24,
   "metadata": {},
   "outputs": [],
   "source": [
    "# embed the training set\n",
    "embeddings_train = co.embed(texts=sentences_train,\n",
    "                             model=\"large\",\n",
    "                             truncate=\"LEFT\").embeddings\n",
    "# embed the testing set\n",
    "embeddings_test = co.embed(texts=sentences_test,\n",
    "                             model=\"large\",\n",
    "                             truncate=\"LEFT\").embeddings"
   ]
  },
  {
   "cell_type": "markdown",
   "metadata": {},
   "source": [
    "We have not created 2 sets of embeddings:\n",
    "<li> embeddings_train - contains embeddings of the training sentences\n",
    "<li> embeddings_test - contains embeddings of the testing sentences"
   ]
  },
  {
   "cell_type": "code",
   "execution_count": 25,
   "metadata": {},
   "outputs": [
    {
     "name": "stdout",
     "output_type": "stream",
     "text": [
      "Review text: - Former Eskom CEO Matshela Moses Koko sought R500 000 in damages and an apology from a 72-year-old woman. - Barbara Tanton responded on Twitter to Koko's tweet about a City Press article. - The judge dismissed the application as an \"abuse of court\" and awarded punitive costs against Koko. The 72-year-old principal of a Gauteng pre-school successfully fought off an attempt by former Eskom CEO Matshela Moses Koko to seek R500 000 in damages for a tweet she posted about him. Koko sought an apology, a restriction, an interdict and R500 000 in damages for defamation from Barbara Tanton. Tanton's lawyers said his legal action was nothing more than a SLAPP suit (Strategic Lawsuit Against Public Participation) designed to intimidate her. Johannesburg High Court Acting Judge Adele de Wet agreed. She dismissed the application and ordered Koko to pay costs on a punitive scale. The judge said Koko's motive was not to redress any wrong, but to \"punish\" Tanton. \"Such conduct is vexatious,\" she said. The judge noted that Koko had been placed on special leave in May 2017, pending the outcome of an investigation into allegations of breaching his fiduciary duties. ALSO READ | #UnrestSA: Twitter's 'Sphithiphithi Evaluator' in court for allegedly inciting public violence In October 2020, City Press posted an article on Twitter, naming Koko for having refused to sign off on 27 contracts with independent power providers (IPPs), which had already been negotiated with the government. On Twitter, Koko justified himself, stating Eskom could generate electricity for 42c a unit, but was obliged to buy from IPPs for R2.13. Tanton commented on Twitter: Koko sent her a letter the following month, demanding that she unconditionally retract and apologise, that she desist from making further defamatory statements, and that she pay him R500 000. Tanton removed the tweet in early January 2021 and closed her Twitter account. Koko launched court proceedings the same month. In February, Tanton's attorney proposed that she reopen her Twitter account and publish a retraction and an apology. The attorney pointed out claims for damages could not be done through motion proceedings, and there were material disputes of facts which would have to be aired in court. Koko ignored the olive branch extended and Tanton was forced to submit an opposing affidavit, raising various defences, including that this was SLAPP litigation, and that the tweet was \"fair comment\", true, and in the public interest. Koko did not file any further documents and the matter was set down on the court roll by Tanton's attorneys. When the matter came before De Wet, Koko said he only wanted an order that Tanton pay his legal costs because by removing the tweet Tanton \"had conceded\". Tanton's lawyers argued that Koko had an \"improper motive\", that his SLAPP against her was unmasked during a radio interview shortly after he launched the application, in which he said: \"She (Tanton) needs a big klap, so that others can learn that the time for impunity is gone.\" The judge said Koko had, in his initial affidavit, taken great pains to demonstrate the umbrage he took against the \"appalling manner\" in which Tanton was vilifying him. De Wet said: Tanton had been forced to oppose the application and deliver very substantial opposing papers. The judge said Tanton's advocate had submitted that Koko, having been the subject of numerous less-than-complimentary-tweets over many years, had carefully selected his client as a strategic target for a SLAPP, knowing that she did not possess equal means. The advocate had argued that the three-fold purpose of a SLAPP had been achieved: to silence her, to punish her with exorbitant legal costs, which she can ill afford, and to deter other citizens. Adriaan Basson | Why I will no longer tweet The judge said Koko's behaviour suggested that he was not looking to restore his reputation, but wished to punish Tanton and, in doing so, prevent public comment on his conduct. Finding that the application was an \"abuse of court\", the judge said Koko's claim for costs against Tanton was only raised belatedly when he realised that she was steadfast in her intention to fight him. Tanton's attorney, Rupert Candy, said his client was very relieved about the outcome. \"She has always been an unwilling participant in these SLAPP proceedings. She looks forward to putting this behind her after recovering her costs.\"\n",
      "Embedding vector: [0.53370297, -1.0435572, -2.3437347, 0.6131997, -0.8288128, 0.8315989, 0.44059768, -0.08888079, 0.43679556, -0.18775739]\n"
     ]
    }
   ],
   "source": [
    "# to see what an embedding looks like\n",
    "print(f\"Review text: {sentences_train[0]}\")\n",
    "print(f\"Embedding vector: {embeddings_train[0][:10]}\")"
   ]
  },
  {
   "cell_type": "markdown",
   "metadata": {},
   "source": [
    "### Training a classifier using the training set"
   ]
  },
  {
   "cell_type": "code",
   "execution_count": 28,
   "metadata": {},
   "outputs": [
    {
     "ename": "ValueError",
     "evalue": "Unknown label type: 'continuous'",
     "output_type": "error",
     "traceback": [
      "\u001b[0;31m---------------------------------------------------------------------------\u001b[0m",
      "\u001b[0;31mValueError\u001b[0m                                Traceback (most recent call last)",
      "Cell \u001b[0;32mIn [28], line 13\u001b[0m\n\u001b[1;32m     10\u001b[0m svm_classifier \u001b[38;5;241m=\u001b[39m make_pipeline(StandardScaler(), SVC(class_weight\u001b[38;5;241m=\u001b[39m\u001b[38;5;124m'\u001b[39m\u001b[38;5;124mbalanced\u001b[39m\u001b[38;5;124m'\u001b[39m)) \n\u001b[1;32m     12\u001b[0m \u001b[38;5;66;03m# fit the support vector machine\u001b[39;00m\n\u001b[0;32m---> 13\u001b[0m \u001b[43msvm_classifier\u001b[49m\u001b[38;5;241;43m.\u001b[39;49m\u001b[43mfit\u001b[49m\u001b[43m(\u001b[49m\u001b[43membeddings_train\u001b[49m\u001b[43m,\u001b[49m\u001b[43m \u001b[49m\u001b[43mlabels_train\u001b[49m\u001b[43m)\u001b[49m\n",
      "File \u001b[0;32m~/.local/lib/python3.10/site-packages/sklearn/pipeline.py:382\u001b[0m, in \u001b[0;36mPipeline.fit\u001b[0;34m(self, X, y, **fit_params)\u001b[0m\n\u001b[1;32m    380\u001b[0m     \u001b[39mif\u001b[39;00m \u001b[39mself\u001b[39m\u001b[39m.\u001b[39m_final_estimator \u001b[39m!=\u001b[39m \u001b[39m\"\u001b[39m\u001b[39mpassthrough\u001b[39m\u001b[39m\"\u001b[39m:\n\u001b[1;32m    381\u001b[0m         fit_params_last_step \u001b[39m=\u001b[39m fit_params_steps[\u001b[39mself\u001b[39m\u001b[39m.\u001b[39msteps[\u001b[39m-\u001b[39m\u001b[39m1\u001b[39m][\u001b[39m0\u001b[39m]]\n\u001b[0;32m--> 382\u001b[0m         \u001b[39mself\u001b[39;49m\u001b[39m.\u001b[39;49m_final_estimator\u001b[39m.\u001b[39;49mfit(Xt, y, \u001b[39m*\u001b[39;49m\u001b[39m*\u001b[39;49mfit_params_last_step)\n\u001b[1;32m    384\u001b[0m \u001b[39mreturn\u001b[39;00m \u001b[39mself\u001b[39m\n",
      "File \u001b[0;32m~/.local/lib/python3.10/site-packages/sklearn/svm/_base.py:182\u001b[0m, in \u001b[0;36mBaseLibSVM.fit\u001b[0;34m(self, X, y, sample_weight)\u001b[0m\n\u001b[1;32m    172\u001b[0m \u001b[39melse\u001b[39;00m:\n\u001b[1;32m    173\u001b[0m     X, y \u001b[39m=\u001b[39m \u001b[39mself\u001b[39m\u001b[39m.\u001b[39m_validate_data(\n\u001b[1;32m    174\u001b[0m         X,\n\u001b[1;32m    175\u001b[0m         y,\n\u001b[0;32m   (...)\u001b[0m\n\u001b[1;32m    179\u001b[0m         accept_large_sparse\u001b[39m=\u001b[39m\u001b[39mFalse\u001b[39;00m,\n\u001b[1;32m    180\u001b[0m     )\n\u001b[0;32m--> 182\u001b[0m y \u001b[39m=\u001b[39m \u001b[39mself\u001b[39;49m\u001b[39m.\u001b[39;49m_validate_targets(y)\n\u001b[1;32m    184\u001b[0m sample_weight \u001b[39m=\u001b[39m np\u001b[39m.\u001b[39masarray(\n\u001b[1;32m    185\u001b[0m     [] \u001b[39mif\u001b[39;00m sample_weight \u001b[39mis\u001b[39;00m \u001b[39mNone\u001b[39;00m \u001b[39melse\u001b[39;00m sample_weight, dtype\u001b[39m=\u001b[39mnp\u001b[39m.\u001b[39mfloat64\n\u001b[1;32m    186\u001b[0m )\n\u001b[1;32m    187\u001b[0m solver_type \u001b[39m=\u001b[39m LIBSVM_IMPL\u001b[39m.\u001b[39mindex(\u001b[39mself\u001b[39m\u001b[39m.\u001b[39m_impl)\n",
      "File \u001b[0;32m~/.local/lib/python3.10/site-packages/sklearn/svm/_base.py:735\u001b[0m, in \u001b[0;36mBaseSVC._validate_targets\u001b[0;34m(self, y)\u001b[0m\n\u001b[1;32m    733\u001b[0m \u001b[39mdef\u001b[39;00m \u001b[39m_validate_targets\u001b[39m(\u001b[39mself\u001b[39m, y):\n\u001b[1;32m    734\u001b[0m     y_ \u001b[39m=\u001b[39m column_or_1d(y, warn\u001b[39m=\u001b[39m\u001b[39mTrue\u001b[39;00m)\n\u001b[0;32m--> 735\u001b[0m     check_classification_targets(y)\n\u001b[1;32m    736\u001b[0m     \u001b[39mcls\u001b[39m, y \u001b[39m=\u001b[39m np\u001b[39m.\u001b[39munique(y_, return_inverse\u001b[39m=\u001b[39m\u001b[39mTrue\u001b[39;00m)\n\u001b[1;32m    737\u001b[0m     \u001b[39mself\u001b[39m\u001b[39m.\u001b[39mclass_weight_ \u001b[39m=\u001b[39m compute_class_weight(\u001b[39mself\u001b[39m\u001b[39m.\u001b[39mclass_weight, classes\u001b[39m=\u001b[39m\u001b[39mcls\u001b[39m, y\u001b[39m=\u001b[39my_)\n",
      "File \u001b[0;32m~/.local/lib/python3.10/site-packages/sklearn/utils/multiclass.py:200\u001b[0m, in \u001b[0;36mcheck_classification_targets\u001b[0;34m(y)\u001b[0m\n\u001b[1;32m    192\u001b[0m y_type \u001b[39m=\u001b[39m type_of_target(y, input_name\u001b[39m=\u001b[39m\u001b[39m\"\u001b[39m\u001b[39my\u001b[39m\u001b[39m\"\u001b[39m)\n\u001b[1;32m    193\u001b[0m \u001b[39mif\u001b[39;00m y_type \u001b[39mnot\u001b[39;00m \u001b[39min\u001b[39;00m [\n\u001b[1;32m    194\u001b[0m     \u001b[39m\"\u001b[39m\u001b[39mbinary\u001b[39m\u001b[39m\"\u001b[39m,\n\u001b[1;32m    195\u001b[0m     \u001b[39m\"\u001b[39m\u001b[39mmulticlass\u001b[39m\u001b[39m\"\u001b[39m,\n\u001b[0;32m   (...)\u001b[0m\n\u001b[1;32m    198\u001b[0m     \u001b[39m\"\u001b[39m\u001b[39mmultilabel-sequences\u001b[39m\u001b[39m\"\u001b[39m,\n\u001b[1;32m    199\u001b[0m ]:\n\u001b[0;32m--> 200\u001b[0m     \u001b[39mraise\u001b[39;00m \u001b[39mValueError\u001b[39;00m(\u001b[39m\"\u001b[39m\u001b[39mUnknown label type: \u001b[39m\u001b[39m%r\u001b[39;00m\u001b[39m\"\u001b[39m \u001b[39m%\u001b[39m y_type)\n",
      "\u001b[0;31mValueError\u001b[0m: Unknown label type: 'continuous'"
     ]
    }
   ],
   "source": [
    "# import SVM classifier code\n",
    "from sklearn.svm import SVC\n",
    "from sklearn.pipeline import make_pipeline\n",
    "from sklearn.preprocessing import StandardScaler\n",
    "\n",
    "\n",
    "# Initialize a support vector machine, with class_weight='balanced' because \n",
    "# our training set has roughly an equal amount of positive and negative \n",
    "# sentiment sentences\n",
    "svm_classifier = make_pipeline(StandardScaler(), SVC(class_weight='balanced')) \n",
    "\n",
    "# fit the support vector machine\n",
    "svm_classifier.fit(embeddings_train, labels_train)"
   ]
  },
  {
   "cell_type": "markdown",
   "metadata": {},
   "source": [
    "### Evaluate the performance of the classifier on the testing set"
   ]
  },
  {
   "cell_type": "code",
   "execution_count": 27,
   "metadata": {},
   "outputs": [
    {
     "ename": "AttributeError",
     "evalue": "'SVC' object has no attribute 'support_vectors_'",
     "output_type": "error",
     "traceback": [
      "\u001b[0;31m---------------------------------------------------------------------------\u001b[0m",
      "\u001b[0;31mAttributeError\u001b[0m                            Traceback (most recent call last)",
      "Cell \u001b[0;32mIn [27], line 2\u001b[0m\n\u001b[1;32m      1\u001b[0m \u001b[38;5;66;03m# get the score from the test set, and print it out to screen!\u001b[39;00m\n\u001b[0;32m----> 2\u001b[0m score \u001b[38;5;241m=\u001b[39m \u001b[43msvm_classifier\u001b[49m\u001b[38;5;241;43m.\u001b[39;49m\u001b[43mscore\u001b[49m\u001b[43m(\u001b[49m\u001b[43membeddings_test\u001b[49m\u001b[43m,\u001b[49m\u001b[43m \u001b[49m\u001b[43mlabels_test\u001b[49m\u001b[43m)\u001b[49m\n\u001b[1;32m      3\u001b[0m \u001b[38;5;28mprint\u001b[39m(\u001b[38;5;124mf\u001b[39m\u001b[38;5;124m\"\u001b[39m\u001b[38;5;124mValidation accuracy on Large is \u001b[39m\u001b[38;5;132;01m{\u001b[39;00m\u001b[38;5;241m100\u001b[39m\u001b[38;5;241m*\u001b[39mscore\u001b[38;5;132;01m}\u001b[39;00m\u001b[38;5;124m%!\u001b[39m\u001b[38;5;124m\"\u001b[39m)\n",
      "File \u001b[0;32m~/.local/lib/python3.10/site-packages/sklearn/pipeline.py:699\u001b[0m, in \u001b[0;36mPipeline.score\u001b[0;34m(self, X, y, sample_weight)\u001b[0m\n\u001b[1;32m    697\u001b[0m \u001b[39mif\u001b[39;00m sample_weight \u001b[39mis\u001b[39;00m \u001b[39mnot\u001b[39;00m \u001b[39mNone\u001b[39;00m:\n\u001b[1;32m    698\u001b[0m     score_params[\u001b[39m\"\u001b[39m\u001b[39msample_weight\u001b[39m\u001b[39m\"\u001b[39m] \u001b[39m=\u001b[39m sample_weight\n\u001b[0;32m--> 699\u001b[0m \u001b[39mreturn\u001b[39;00m \u001b[39mself\u001b[39;49m\u001b[39m.\u001b[39;49msteps[\u001b[39m-\u001b[39;49m\u001b[39m1\u001b[39;49m][\u001b[39m1\u001b[39;49m]\u001b[39m.\u001b[39;49mscore(Xt, y, \u001b[39m*\u001b[39;49m\u001b[39m*\u001b[39;49mscore_params)\n",
      "File \u001b[0;32m~/.local/lib/python3.10/site-packages/sklearn/base.py:666\u001b[0m, in \u001b[0;36mClassifierMixin.score\u001b[0;34m(self, X, y, sample_weight)\u001b[0m\n\u001b[1;32m    641\u001b[0m \u001b[39m\"\"\"\u001b[39;00m\n\u001b[1;32m    642\u001b[0m \u001b[39mReturn the mean accuracy on the given test data and labels.\u001b[39;00m\n\u001b[1;32m    643\u001b[0m \n\u001b[0;32m   (...)\u001b[0m\n\u001b[1;32m    662\u001b[0m \u001b[39m    Mean accuracy of ``self.predict(X)`` wrt. `y`.\u001b[39;00m\n\u001b[1;32m    663\u001b[0m \u001b[39m\"\"\"\u001b[39;00m\n\u001b[1;32m    664\u001b[0m \u001b[39mfrom\u001b[39;00m \u001b[39m.\u001b[39;00m\u001b[39mmetrics\u001b[39;00m \u001b[39mimport\u001b[39;00m accuracy_score\n\u001b[0;32m--> 666\u001b[0m \u001b[39mreturn\u001b[39;00m accuracy_score(y, \u001b[39mself\u001b[39;49m\u001b[39m.\u001b[39;49mpredict(X), sample_weight\u001b[39m=\u001b[39msample_weight)\n",
      "File \u001b[0;32m~/.local/lib/python3.10/site-packages/sklearn/svm/_base.py:810\u001b[0m, in \u001b[0;36mBaseSVC.predict\u001b[0;34m(self, X)\u001b[0m\n\u001b[1;32m    808\u001b[0m     y \u001b[39m=\u001b[39m np\u001b[39m.\u001b[39margmax(\u001b[39mself\u001b[39m\u001b[39m.\u001b[39mdecision_function(X), axis\u001b[39m=\u001b[39m\u001b[39m1\u001b[39m)\n\u001b[1;32m    809\u001b[0m \u001b[39melse\u001b[39;00m:\n\u001b[0;32m--> 810\u001b[0m     y \u001b[39m=\u001b[39m \u001b[39msuper\u001b[39;49m()\u001b[39m.\u001b[39;49mpredict(X)\n\u001b[1;32m    811\u001b[0m \u001b[39mreturn\u001b[39;00m \u001b[39mself\u001b[39m\u001b[39m.\u001b[39mclasses_\u001b[39m.\u001b[39mtake(np\u001b[39m.\u001b[39masarray(y, dtype\u001b[39m=\u001b[39mnp\u001b[39m.\u001b[39mintp))\n",
      "File \u001b[0;32m~/.local/lib/python3.10/site-packages/sklearn/svm/_base.py:433\u001b[0m, in \u001b[0;36mBaseLibSVM.predict\u001b[0;34m(self, X)\u001b[0m\n\u001b[1;32m    417\u001b[0m \u001b[39mdef\u001b[39;00m \u001b[39mpredict\u001b[39m(\u001b[39mself\u001b[39m, X):\n\u001b[1;32m    418\u001b[0m     \u001b[39m\"\"\"Perform regression on samples in X.\u001b[39;00m\n\u001b[1;32m    419\u001b[0m \n\u001b[1;32m    420\u001b[0m \u001b[39m    For an one-class model, +1 (inlier) or -1 (outlier) is returned.\u001b[39;00m\n\u001b[0;32m   (...)\u001b[0m\n\u001b[1;32m    431\u001b[0m \u001b[39m        The predicted values.\u001b[39;00m\n\u001b[1;32m    432\u001b[0m \u001b[39m    \"\"\"\u001b[39;00m\n\u001b[0;32m--> 433\u001b[0m     X \u001b[39m=\u001b[39m \u001b[39mself\u001b[39;49m\u001b[39m.\u001b[39;49m_validate_for_predict(X)\n\u001b[1;32m    434\u001b[0m     predict \u001b[39m=\u001b[39m \u001b[39mself\u001b[39m\u001b[39m.\u001b[39m_sparse_predict \u001b[39mif\u001b[39;00m \u001b[39mself\u001b[39m\u001b[39m.\u001b[39m_sparse \u001b[39melse\u001b[39;00m \u001b[39mself\u001b[39m\u001b[39m.\u001b[39m_dense_predict\n\u001b[1;32m    435\u001b[0m     \u001b[39mreturn\u001b[39;00m predict(X)\n",
      "File \u001b[0;32m~/.local/lib/python3.10/site-packages/sklearn/svm/_base.py:640\u001b[0m, in \u001b[0;36mBaseLibSVM._validate_for_predict\u001b[0;34m(self, X)\u001b[0m\n\u001b[1;32m    633\u001b[0m         \u001b[39mraise\u001b[39;00m \u001b[39mValueError\u001b[39;00m(\n\u001b[1;32m    634\u001b[0m             \u001b[39m\"\u001b[39m\u001b[39mX.shape[1] = \u001b[39m\u001b[39m%d\u001b[39;00m\u001b[39m should be equal to \u001b[39m\u001b[39m%d\u001b[39;00m\u001b[39m, \u001b[39m\u001b[39m\"\u001b[39m\n\u001b[1;32m    635\u001b[0m             \u001b[39m\"\u001b[39m\u001b[39mthe number of samples at training time\u001b[39m\u001b[39m\"\u001b[39m\n\u001b[1;32m    636\u001b[0m             \u001b[39m%\u001b[39m (X\u001b[39m.\u001b[39mshape[\u001b[39m1\u001b[39m], \u001b[39mself\u001b[39m\u001b[39m.\u001b[39mshape_fit_[\u001b[39m0\u001b[39m])\n\u001b[1;32m    637\u001b[0m         )\n\u001b[1;32m    638\u001b[0m \u001b[39m# Fixes https://nvd.nist.gov/vuln/detail/CVE-2020-28975\u001b[39;00m\n\u001b[1;32m    639\u001b[0m \u001b[39m# Check that _n_support is consistent with support_vectors\u001b[39;00m\n\u001b[0;32m--> 640\u001b[0m sv \u001b[39m=\u001b[39m \u001b[39mself\u001b[39;49m\u001b[39m.\u001b[39;49msupport_vectors_\n\u001b[1;32m    641\u001b[0m \u001b[39mif\u001b[39;00m \u001b[39mnot\u001b[39;00m \u001b[39mself\u001b[39m\u001b[39m.\u001b[39m_sparse \u001b[39mand\u001b[39;00m sv\u001b[39m.\u001b[39msize \u001b[39m>\u001b[39m \u001b[39m0\u001b[39m \u001b[39mand\u001b[39;00m \u001b[39mself\u001b[39m\u001b[39m.\u001b[39mn_support_\u001b[39m.\u001b[39msum() \u001b[39m!=\u001b[39m sv\u001b[39m.\u001b[39mshape[\u001b[39m0\u001b[39m]:\n\u001b[1;32m    642\u001b[0m     \u001b[39mraise\u001b[39;00m \u001b[39mValueError\u001b[39;00m(\n\u001b[1;32m    643\u001b[0m         \u001b[39mf\u001b[39m\u001b[39m\"\u001b[39m\u001b[39mThe internal representation of \u001b[39m\u001b[39m{\u001b[39;00m\u001b[39mself\u001b[39m\u001b[39m.\u001b[39m\u001b[39m__class__\u001b[39m\u001b[39m.\u001b[39m\u001b[39m__name__\u001b[39m\u001b[39m}\u001b[39;00m\u001b[39m was altered\u001b[39m\u001b[39m\"\u001b[39m\n\u001b[1;32m    644\u001b[0m     )\n",
      "\u001b[0;31mAttributeError\u001b[0m: 'SVC' object has no attribute 'support_vectors_'"
     ]
    }
   ],
   "source": [
    "# get the score from the test set, and print it out to screen!\n",
    "score = svm_classifier.score(embeddings_test, labels_test)\n",
    "print(f\"Validation accuracy on Large is {100*score}%!\")"
   ]
  }
 ],
 "metadata": {
  "kernelspec": {
   "display_name": "Python 3.10.4 64-bit",
   "language": "python",
   "name": "python3"
  },
  "language_info": {
   "codemirror_mode": {
    "name": "ipython",
    "version": 3
   },
   "file_extension": ".py",
   "mimetype": "text/x-python",
   "name": "python",
   "nbconvert_exporter": "python",
   "pygments_lexer": "ipython3",
   "version": "3.10.4"
  },
  "orig_nbformat": 4,
  "vscode": {
   "interpreter": {
    "hash": "916dbcbb3f70747c44a77c7bcd40155683ae19c65e1c03b4aa3499c5328201f1"
   }
  }
 },
 "nbformat": 4,
 "nbformat_minor": 2
}
