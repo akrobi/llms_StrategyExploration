{
 "cells": [
  {
   "cell_type": "markdown",
   "metadata": {},
   "source": [
    "# Connecting to free language learing model APIs"
   ]
  },
  {
   "cell_type": "markdown",
   "metadata": {},
   "source": [
    "## 1. Co:here"
   ]
  },
  {
   "cell_type": "code",
   "execution_count": 1,
   "metadata": {},
   "outputs": [],
   "source": [
    "# import libraries\n",
    "import pandas as pd\n",
    "import cohere\n",
    "from sklearn.model_selection import train_test_split\n",
    "pd.set_option('display.max_colwidth', None)"
   ]
  },
  {
   "cell_type": "code",
   "execution_count": 11,
   "metadata": {},
   "outputs": [],
   "source": [
    "# get the data\n",
    "df = pd.read_excel(\"../data/Example_data.xlsx\")"
   ]
  },
  {
   "cell_type": "code",
   "execution_count": 13,
   "metadata": {},
   "outputs": [
    {
     "data": {
      "text/html": [
       "<div>\n",
       "<style scoped>\n",
       "    .dataframe tbody tr th:only-of-type {\n",
       "        vertical-align: middle;\n",
       "    }\n",
       "\n",
       "    .dataframe tbody tr th {\n",
       "        vertical-align: top;\n",
       "    }\n",
       "\n",
       "    .dataframe thead th {\n",
       "        text-align: right;\n",
       "    }\n",
       "</style>\n",
       "<table border=\"1\" class=\"dataframe\">\n",
       "  <thead>\n",
       "    <tr style=\"text-align: right;\">\n",
       "      <th></th>\n",
       "      <th>Domain</th>\n",
       "      <th>Title</th>\n",
       "      <th>Description</th>\n",
       "      <th>Body</th>\n",
       "      <th>Link</th>\n",
       "      <th>timestamp</th>\n",
       "      <th>Analyst_Average_Score</th>\n",
       "      <th>Analyst_Rank</th>\n",
       "      <th>Reference_Final_Score</th>\n",
       "    </tr>\n",
       "  </thead>\n",
       "  <tbody>\n",
       "    <tr>\n",
       "      <th>0</th>\n",
       "      <td>rassegnastampa.news</td>\n",
       "      <td>Boris Johnson using a taxpayer-funded jet for an election campaign fits a long history of taking things he didn't pay for</td>\n",
       "      <td>…often trigger a protest vote that can upset…that ministers who breach the Ministerial Code…plane up the M1 in order to…serious questions about abuse of taxpayers' money which is a clear breach of the code.…should not permit abuse of taxpayers' money…</td>\n",
       "      <td>Boris Johnson using a taxpayer-funded jet for an election campaign fits a long history of taking things he didn't pay for A biographer of Johnson and a former colleague said that Johnson's flight to Hartlepool in an election campaign is totally in character. - Boris Johnson flew in a tax-funded private jet to campaign in the Hartlepool by-election. - The trip may have breached ministerial rules, though officials are reluctant to investigate. - Skirting rules and taking freebies is typical of Johnson, as those close to him have noted. - [See more stories on Insider's business page] . Evacuating yourself into Afghanistan is an unusual move, but one that Boris Johnson made anyway. In June 2018, on the day of a crucial vote on the expansion of London's Heathrow airport, the then-foreign secretary discovered he had urgent business in Kabul, placing him more than 3,500 miles from parliament. Had Johnson been in Westminster, he would have faced a choice: follow Prime Minister Theresa May's instructions to vote with the government in support of the new runway, or resign and fulfil the promise he made on his election in 2015, to \"lie down in front of those bulldozers and stop the construction of that third runway\". Johnson spent less than a day in Kabul. But the trip cost taxpayers £26,848. More importantly for Johnson, the 3,500-mile journey got him off the hook, in a classic example of what one of his biographers calls his \"disregard for the spirit and sometimes the letter of the rules\". A private plane, a motorcade of four cars, and a police escort Almost three years later, on April Fools' Day 2021, Johnson was on a plane again, flying from London Stansted to Teesside International in the northeast of England. Planespotters captured Johnson's private government jet arriving. The plane is chartered by his government under a [£15-million-a-year contract]( ) , and is emblazoned with \"United Kingdom\" on the side and the Union Jack on the tailfin. Video shows Johnson departing the plane with a motorcade of four cars and a police motorcycle escort. He left for Middlesbrough, nine miles from the airport. Johnson's business in Middlesbrough was at B&amp;Q, a DIY store, to celebrate his government's policy of increasing the National Minimum Wage. But after his official visit, he was driven the short distance from Middlesbrough to an industrial estate outside Hartlepool. Tense campaigning, dirty tricks, and outré stunts Hartlepool was in the middle of a parliamentary by-election triggered by the resignation of Mike Hill, the latest in a long line of Labour MPs to represent the town. In Britain, by-elections are occasional spectacles that feature tense campaigning and dirty tricks. Parties will flood even \"safe\" by-election seats with volunteers and staff - because by-elections often trigger a protest vote that can upset decades of tradition. They also feature rafts of novelty candidates attracted by the media attention and the opportunity to stand shoulder-to-shoulder with the more favoured candidates when the results are read out live on TV. [Johnson himself had been forced to stand next to Lord Buckethead, Elmo, and Count Binface]( ) to hear the results of the 2019 vote in his constituency.) For the Conservatives, Hartlepool was a crucial test. Nearly 17 months since their huge win in the 2019 general election, was Johnson still popular enough to flip Labour's heartlands and turn them blue? It is highly unusual for a governing party to flip a seat: it has only happened five times since the end of World War II, each time from Labour to the Conservatives. It was with his typical gusto that Johnson met the Conservative candidate, Jill Mortimer, at a medical equipment manufacturer on the industrial estate, telling the media that she was a \"fantastic candidate\" and the by-election was a \"moment of change and opportunity\". After their visit, they went to a nearby housing estate, posed for photographs with tradesmen, delivered leaflets, and filmed with Ben Houchen, the Conservative Party candidate for the Tees Valley mayoral election, which was going on at the same time. Photos of Mortimer with Johnson from the visit were later used in further leaflets telling constituents that \"your vote can secure positive change in Hartlepool\", as seen in [a tweet by Tory MP Chris Pincher]( ) . Johnson's time in Hartlepool was plainly an act of political campaigning. On May 6, both Conservative candidates won their races: Mortimer and Houchen were elected as MP and mayor respectively. 'Nil' on transport A month later, the Conservatives' election agent, Diane Clarke, signed and submitted the party's candidate spending returns, a legal record of expenses incurred during the election. Insider acquired a copy of the spending returns for all the major parties in the Hartlepool by-election. There were some interesting points: Labour spent nearly £900 on flyers covered in St. George's Flag, its latest in a series of tortured attempt to demonstrate its patriotism. Reform UK (the successor to Nigel Farage's Brexit Party) spent more than £20,000 but received only 368 votes. And the Conservative Party said it had spent \"nil\" on transport. Johnson had carried off a trick of his own: he used a private jet and had everyone else pay for it. 'He knows he can be brazen, he has been all his life, because persistently he gets away with it' The Ministerial Code is the handbook describing how ministers should behave. One recent change has been the end of the convention that ministers who breach the Ministerial Code should resign. Among the rules set out in the Code is a requirement that ministers do not use government resources for party political purposes. Another is that \"where a visit is a mix of political and official engagements, it is important that the department and the Party each meet a proper proportion of the actual cost\". Given Johnson travelled to Teesside for a political and an official engagement, the Conservative Party's claim to have spent nothing on transport suggests the taxpayer paid the full costs of Johnson's trip, breaching the rules. Sonia Purnell wrote a biography of Johnson in 2011, having worked with him early in his career as a journalist. She says this is typical of him. \"This raises the usual questions about Boris Johnson's disregard for the spirit and sometimes the letter of the rules,\" she told Insider. \"The fact is he knows he can be brazen, he has been all his life, because persistently he gets away with it.\" \"What surprises and depresses me is that the rules that should apply most of all to the Prime Minister in this country do not seem to be any longer enforced or observed. This is a sad thing for the country as a whole, that we no longer consider fair play to be part of our national character and ambition.\" 'That claim is essentially implausible' The Conservative Party has, throughout, denied wrongdoing. Initially, when asked whether the party had met the proper proportion of costs, a spokesperson told Insider: \"Tours and associated costs [...] were all declared in accordance with the rules and feature on the return under 'Staff Costs.'\" \"All candidate election expenses were included in the return made in accordance with the Representation of the People Act,\" the party said, referring to a piece of UK election legislation. Requests for a breakdown of the staff costs expenditure went unanswered. In later statements, the party continued to insist it covered \"all relevant costs\". A spokesperson told Insider: \"CCHQ [Conservative Campaign Headquarters] covered all relevant costs associated with the political visit on 1st April in accordance with the Ministerial Code, and reported relevant candidate spending in accordance with the Representation of the People's Act 1983.\" \"The Prime Minister's air travel to Middlesbrough was a Government organised flight, carrying the PM and civil servants to an officially organised, Government visit. It was unrelated to CCHQ campaigning activity and did not promote candidates.\" The party's argument is that it was a happy coincidence Johnson flew to the closest airport to Hartlepool for official business. The party did not explain how the phrase \"did not promote candidates\" applied to Johnson's appearance that day to promote both candidates. 'There appears to be no doubt at all that the Prime Minister breached the code' In 2001, Johnson hired the journalist Peter Oborne as political editor at The Spectator. Oborne is now a staunch critic of Johnson. Earlier this year he published a book on Johnson titled, \"The Assault on Truth: Boris Johnson, Donald Trump and the Emergence of a New Moral Barbarism\". \"The Conservative Party says that the flight was only commissioned as part of an official government visit, that claim is essentially implausible - the Prime Minister campaigned while he was there. There's footage of him doing so,\" Oborne told Insider. \"Boris Johnson has a long record of contempt for the ministerial code. Just look at the series of false statements he's made in defiance of the code to Parliament. Judging by the facts exposed by Insider, there appears to be no doubt at all that the Prime Minister breached the code.\" Johnson has a track record of accepting freebies The government has consistently denied wrongdoing, and suggest Johnson's visit was part of his \"levelling up agenda\". Chloe Smith MP, Minister of State for the Constitution and Devolution, told Insider: \"All travel by the Prime Minister was in line with the provisions of the Ministerial Code, and all the appropriate rules were correctly followed in relation to the costs of the subsequent political visit. \"As part of the Government's levelling up agenda, it's entirely right that Ministers meet and listen to people in every part of the United Kingdom.\" Downing Street has pointed to another part of the Ministerial Code which says the Prime Minister \"may use their official cars for all journeys by road, including those for private or Party purposes.\" [Anneliese Dodds MP, the chair of the Labour Party]( ) , wrote to her counterpart, Amanda Milling MP, co-chair of the Conservative Party, unconvinced by Downing Street's defence. \"That is interesting, but unless the Prime Minister taxied his plane up the M1 in order to reach Hartlepool - and I am perfectly happy to be corrected if it transpires that was the case - then I fail to see the relevance,\" she said. Flying a chartered jet is expensive. One quote for the aircraft Johnson flew in from Stansted to Teesside suggests a cost of £120,000, according to [the charter website PrivateFly]( ) . Election spending in the UK is strictly controlled by law: the total spending limit in a by-election for each candidate is £100,000. Johnson has a track record of accepting freebies without asking too many questions. They include: - A [£52,802 Downing Street flat refurbishment] , initially paid for by Tory donor Lord Brownlow and later paid back by Johnson, which is currently under investigation by the Electoral Commission. - [His £15,000 Caribbean holiday in late 2019] , paid for by Tory donor David Ross. - And [more than £27,000 worth of organic food and drink] delivered to Downing Street, offered at below regular cost by the wife of a Tory donor, Lady Bamford. Downing Street insisted that Johnson pays for all his own food. Police are 'reviewing correspondence' - but the Prime Minister's independent adviser won't investigate In the UK, questions over candidate spending at a local level are not handled by the Electoral Commission, the regulator responsible for monitoring national political financing and expenditure. Instead, local police forces are responsible for investigating potential breaches of the main piece of legislation that covers candidate expenditure. Breaches can range from undeclared donations and spending to going over the spending limit. Following Insider's reporting, [Cleveland Police confirmed it had seen recent media reports]( ) and was \"reviewing correspondence\". The police have no powers to investigate breaches of the Ministerial Code. That power is in the hands of the Prime Minister, who can ask his independent adviser on ministers' interests to investigate, working with the top civil servant, the Cabinet Secretary. But Lord Geidt, the independent adviser, [denied a request by the Labour Party to investigate the matter]( ) . In his letter refusing the request, Geidt said that \"the application of election spending law is a matter for the political parties concerned and the Electoral Commission.\" His response ignores that potential breaches of laws covering candidate spending are matters for the police, not the Electoral Commission. Oborne said the refusal to investigate was \"baffling\". \"Lord Geidt seems not to understand the rules on by-election spending. This basic failure of comprehension means it is impossible for Lord Geidt to reach an independent judgment. He is taking the government's explanation at face value,\" Oborne told Insider. \"This failure to investigate also reflects very badly on [Cabinet Secretary] Simon Case. There are very serious questions about abuse of taxpayers' money which is a clear breach of the code. It is really welcome that the local police are reviewing correspondence on this issue. But these questions should go higher up than that. Simon Case, the Cabinet Secretary, should not permit abuse of taxpayers' money in this way, and should be a guardian of civil service neutrality. \"There is now a clear pattern of Boris Johnson and other cabinet ministers breaking the Ministerial Code on a systematic basis,\" Oborne concluded. \"It's almost as if the Ministerial Code does not exist.\" [Business Insider]</td>\n",
       "      <td>https://rassegnastampa.news/boris-johnson-using-a-taxpayer-funded-jet-for-an-election-campaign-fits-a-long-history-of-taking-things-he-didnt-pay-for</td>\n",
       "      <td>2021-09-09T18:17:46.258006</td>\n",
       "      <td>0.0</td>\n",
       "      <td>4</td>\n",
       "      <td>1.96</td>\n",
       "    </tr>\n",
       "  </tbody>\n",
       "</table>\n",
       "</div>"
      ],
      "text/plain": [
       "                Domain  \\\n",
       "0  rassegnastampa.news   \n",
       "\n",
       "                                                                                                                       Title  \\\n",
       "0  Boris Johnson using a taxpayer-funded jet for an election campaign fits a long history of taking things he didn't pay for   \n",
       "\n",
       "                                                                                                                                                                                                                                                   Description  \\\n",
       "0  …often trigger a protest vote that can upset…that ministers who breach the Ministerial Code…plane up the M1 in order to…serious questions about abuse of taxpayers' money which is a clear breach of the code.…should not permit abuse of taxpayers' money…   \n",
       "\n",
       "                                                                                                                                                                                                                                                                                                                                                                                                                                                                                                                                                                                                                                                                                                                                                                                                                                                                                                                                                                                                                                                                                                                                                                                                                                                                                                                                                                                                                                                                                                                                                                                                                                                                                                                                                                                                                                                                                                                                                                                                                                                                                                                                                                                                                                                                                                                                                                                                                                                                                                                                                                                                                                                                                                                                                                                                                                                                                                                                                                                                                                                                                                                                                                                                                                                                                                                                                                                                                                                                                                                                                                                                                                                                                                                                                                                                                                                                                                                                                                                                                                                                                                                                                                                                                                                                                                                                                                                                                                                                                                                                                                                                                                                                                                                                                                                                                                                                                                                                                                                                                                                                                                                                                                                                                                                                                                                                                                                                                                                                                                                                                                                                                                                                                                                                                                                                                                                                                                                                                                                                                                                                                                                                                                                                                                                                                                                                                                                                                                                                                                                                                                                                                                                                                                                                                                                                                                                                                                                                                                                                                                                                                                                                                                                                                                                                                                                                                                                                                                                                                                                                                                                                                                                                                                                                                                                                                                                                                                                                                                                                                                                                                                                                                                                                                                                                                                                                                                                                                                                                                                                                                                                                                                                                                                                                                                                                                                                                                                                                                                                                                                                                                                                                                                                                                                                                                                                                                                                                                                                                                                                                                                                                                                                                                                                                                                                                                                                                                                                                                                                                                                                                                                                                                                                                                                                                                                                                                                                                                                                                                                                                                                                                                                                                                                                                                                                                                                                                                                                                                                                                                                                                                                                                                                                                                                                                                                                                                                                                                                                                                                                                                                                                                                                                                                                                                                                                                                                                                                                                                                                                                                                                                                                                                                                                                                                                                                                                                                                                                                                                                                                                                                                                                                                                                                                                                                                                                                                                                                                                                                                                                                                                                                                                                                                                                                                                                                                                                                                                                                                                                                                                                                                                                                                                                                                                                                                                                                                                                                                                                                                                                                                                                                                                                                                                                                                                               Body  \\\n",
       "0  Boris Johnson using a taxpayer-funded jet for an election campaign fits a long history of taking things he didn't pay for A biographer of Johnson and a former colleague said that Johnson's flight to Hartlepool in an election campaign is totally in character. - Boris Johnson flew in a tax-funded private jet to campaign in the Hartlepool by-election. - The trip may have breached ministerial rules, though officials are reluctant to investigate. - Skirting rules and taking freebies is typical of Johnson, as those close to him have noted. - [See more stories on Insider's business page] . Evacuating yourself into Afghanistan is an unusual move, but one that Boris Johnson made anyway. In June 2018, on the day of a crucial vote on the expansion of London's Heathrow airport, the then-foreign secretary discovered he had urgent business in Kabul, placing him more than 3,500 miles from parliament. Had Johnson been in Westminster, he would have faced a choice: follow Prime Minister Theresa May's instructions to vote with the government in support of the new runway, or resign and fulfil the promise he made on his election in 2015, to \"lie down in front of those bulldozers and stop the construction of that third runway\". Johnson spent less than a day in Kabul. But the trip cost taxpayers £26,848. More importantly for Johnson, the 3,500-mile journey got him off the hook, in a classic example of what one of his biographers calls his \"disregard for the spirit and sometimes the letter of the rules\". A private plane, a motorcade of four cars, and a police escort Almost three years later, on April Fools' Day 2021, Johnson was on a plane again, flying from London Stansted to Teesside International in the northeast of England. Planespotters captured Johnson's private government jet arriving. The plane is chartered by his government under a [£15-million-a-year contract]( ) , and is emblazoned with \"United Kingdom\" on the side and the Union Jack on the tailfin. Video shows Johnson departing the plane with a motorcade of four cars and a police motorcycle escort. He left for Middlesbrough, nine miles from the airport. Johnson's business in Middlesbrough was at B&Q, a DIY store, to celebrate his government's policy of increasing the National Minimum Wage. But after his official visit, he was driven the short distance from Middlesbrough to an industrial estate outside Hartlepool. Tense campaigning, dirty tricks, and outré stunts Hartlepool was in the middle of a parliamentary by-election triggered by the resignation of Mike Hill, the latest in a long line of Labour MPs to represent the town. In Britain, by-elections are occasional spectacles that feature tense campaigning and dirty tricks. Parties will flood even \"safe\" by-election seats with volunteers and staff - because by-elections often trigger a protest vote that can upset decades of tradition. They also feature rafts of novelty candidates attracted by the media attention and the opportunity to stand shoulder-to-shoulder with the more favoured candidates when the results are read out live on TV. [Johnson himself had been forced to stand next to Lord Buckethead, Elmo, and Count Binface]( ) to hear the results of the 2019 vote in his constituency.) For the Conservatives, Hartlepool was a crucial test. Nearly 17 months since their huge win in the 2019 general election, was Johnson still popular enough to flip Labour's heartlands and turn them blue? It is highly unusual for a governing party to flip a seat: it has only happened five times since the end of World War II, each time from Labour to the Conservatives. It was with his typical gusto that Johnson met the Conservative candidate, Jill Mortimer, at a medical equipment manufacturer on the industrial estate, telling the media that she was a \"fantastic candidate\" and the by-election was a \"moment of change and opportunity\". After their visit, they went to a nearby housing estate, posed for photographs with tradesmen, delivered leaflets, and filmed with Ben Houchen, the Conservative Party candidate for the Tees Valley mayoral election, which was going on at the same time. Photos of Mortimer with Johnson from the visit were later used in further leaflets telling constituents that \"your vote can secure positive change in Hartlepool\", as seen in [a tweet by Tory MP Chris Pincher]( ) . Johnson's time in Hartlepool was plainly an act of political campaigning. On May 6, both Conservative candidates won their races: Mortimer and Houchen were elected as MP and mayor respectively. 'Nil' on transport A month later, the Conservatives' election agent, Diane Clarke, signed and submitted the party's candidate spending returns, a legal record of expenses incurred during the election. Insider acquired a copy of the spending returns for all the major parties in the Hartlepool by-election. There were some interesting points: Labour spent nearly £900 on flyers covered in St. George's Flag, its latest in a series of tortured attempt to demonstrate its patriotism. Reform UK (the successor to Nigel Farage's Brexit Party) spent more than £20,000 but received only 368 votes. And the Conservative Party said it had spent \"nil\" on transport. Johnson had carried off a trick of his own: he used a private jet and had everyone else pay for it. 'He knows he can be brazen, he has been all his life, because persistently he gets away with it' The Ministerial Code is the handbook describing how ministers should behave. One recent change has been the end of the convention that ministers who breach the Ministerial Code should resign. Among the rules set out in the Code is a requirement that ministers do not use government resources for party political purposes. Another is that \"where a visit is a mix of political and official engagements, it is important that the department and the Party each meet a proper proportion of the actual cost\". Given Johnson travelled to Teesside for a political and an official engagement, the Conservative Party's claim to have spent nothing on transport suggests the taxpayer paid the full costs of Johnson's trip, breaching the rules. Sonia Purnell wrote a biography of Johnson in 2011, having worked with him early in his career as a journalist. She says this is typical of him. \"This raises the usual questions about Boris Johnson's disregard for the spirit and sometimes the letter of the rules,\" she told Insider. \"The fact is he knows he can be brazen, he has been all his life, because persistently he gets away with it.\" \"What surprises and depresses me is that the rules that should apply most of all to the Prime Minister in this country do not seem to be any longer enforced or observed. This is a sad thing for the country as a whole, that we no longer consider fair play to be part of our national character and ambition.\" 'That claim is essentially implausible' The Conservative Party has, throughout, denied wrongdoing. Initially, when asked whether the party had met the proper proportion of costs, a spokesperson told Insider: \"Tours and associated costs [...] were all declared in accordance with the rules and feature on the return under 'Staff Costs.'\" \"All candidate election expenses were included in the return made in accordance with the Representation of the People Act,\" the party said, referring to a piece of UK election legislation. Requests for a breakdown of the staff costs expenditure went unanswered. In later statements, the party continued to insist it covered \"all relevant costs\". A spokesperson told Insider: \"CCHQ [Conservative Campaign Headquarters] covered all relevant costs associated with the political visit on 1st April in accordance with the Ministerial Code, and reported relevant candidate spending in accordance with the Representation of the People's Act 1983.\" \"The Prime Minister's air travel to Middlesbrough was a Government organised flight, carrying the PM and civil servants to an officially organised, Government visit. It was unrelated to CCHQ campaigning activity and did not promote candidates.\" The party's argument is that it was a happy coincidence Johnson flew to the closest airport to Hartlepool for official business. The party did not explain how the phrase \"did not promote candidates\" applied to Johnson's appearance that day to promote both candidates. 'There appears to be no doubt at all that the Prime Minister breached the code' In 2001, Johnson hired the journalist Peter Oborne as political editor at The Spectator. Oborne is now a staunch critic of Johnson. Earlier this year he published a book on Johnson titled, \"The Assault on Truth: Boris Johnson, Donald Trump and the Emergence of a New Moral Barbarism\". \"The Conservative Party says that the flight was only commissioned as part of an official government visit, that claim is essentially implausible - the Prime Minister campaigned while he was there. There's footage of him doing so,\" Oborne told Insider. \"Boris Johnson has a long record of contempt for the ministerial code. Just look at the series of false statements he's made in defiance of the code to Parliament. Judging by the facts exposed by Insider, there appears to be no doubt at all that the Prime Minister breached the code.\" Johnson has a track record of accepting freebies The government has consistently denied wrongdoing, and suggest Johnson's visit was part of his \"levelling up agenda\". Chloe Smith MP, Minister of State for the Constitution and Devolution, told Insider: \"All travel by the Prime Minister was in line with the provisions of the Ministerial Code, and all the appropriate rules were correctly followed in relation to the costs of the subsequent political visit. \"As part of the Government's levelling up agenda, it's entirely right that Ministers meet and listen to people in every part of the United Kingdom.\" Downing Street has pointed to another part of the Ministerial Code which says the Prime Minister \"may use their official cars for all journeys by road, including those for private or Party purposes.\" [Anneliese Dodds MP, the chair of the Labour Party]( ) , wrote to her counterpart, Amanda Milling MP, co-chair of the Conservative Party, unconvinced by Downing Street's defence. \"That is interesting, but unless the Prime Minister taxied his plane up the M1 in order to reach Hartlepool - and I am perfectly happy to be corrected if it transpires that was the case - then I fail to see the relevance,\" she said. Flying a chartered jet is expensive. One quote for the aircraft Johnson flew in from Stansted to Teesside suggests a cost of £120,000, according to [the charter website PrivateFly]( ) . Election spending in the UK is strictly controlled by law: the total spending limit in a by-election for each candidate is £100,000. Johnson has a track record of accepting freebies without asking too many questions. They include: - A [£52,802 Downing Street flat refurbishment] , initially paid for by Tory donor Lord Brownlow and later paid back by Johnson, which is currently under investigation by the Electoral Commission. - [His £15,000 Caribbean holiday in late 2019] , paid for by Tory donor David Ross. - And [more than £27,000 worth of organic food and drink] delivered to Downing Street, offered at below regular cost by the wife of a Tory donor, Lady Bamford. Downing Street insisted that Johnson pays for all his own food. Police are 'reviewing correspondence' - but the Prime Minister's independent adviser won't investigate In the UK, questions over candidate spending at a local level are not handled by the Electoral Commission, the regulator responsible for monitoring national political financing and expenditure. Instead, local police forces are responsible for investigating potential breaches of the main piece of legislation that covers candidate expenditure. Breaches can range from undeclared donations and spending to going over the spending limit. Following Insider's reporting, [Cleveland Police confirmed it had seen recent media reports]( ) and was \"reviewing correspondence\". The police have no powers to investigate breaches of the Ministerial Code. That power is in the hands of the Prime Minister, who can ask his independent adviser on ministers' interests to investigate, working with the top civil servant, the Cabinet Secretary. But Lord Geidt, the independent adviser, [denied a request by the Labour Party to investigate the matter]( ) . In his letter refusing the request, Geidt said that \"the application of election spending law is a matter for the political parties concerned and the Electoral Commission.\" His response ignores that potential breaches of laws covering candidate spending are matters for the police, not the Electoral Commission. Oborne said the refusal to investigate was \"baffling\". \"Lord Geidt seems not to understand the rules on by-election spending. This basic failure of comprehension means it is impossible for Lord Geidt to reach an independent judgment. He is taking the government's explanation at face value,\" Oborne told Insider. \"This failure to investigate also reflects very badly on [Cabinet Secretary] Simon Case. There are very serious questions about abuse of taxpayers' money which is a clear breach of the code. It is really welcome that the local police are reviewing correspondence on this issue. But these questions should go higher up than that. Simon Case, the Cabinet Secretary, should not permit abuse of taxpayers' money in this way, and should be a guardian of civil service neutrality. \"There is now a clear pattern of Boris Johnson and other cabinet ministers breaking the Ministerial Code on a systematic basis,\" Oborne concluded. \"It's almost as if the Ministerial Code does not exist.\" [Business Insider]   \n",
       "\n",
       "                                                                                                                                                   Link  \\\n",
       "0  https://rassegnastampa.news/boris-johnson-using-a-taxpayer-funded-jet-for-an-election-campaign-fits-a-long-history-of-taking-things-he-didnt-pay-for   \n",
       "\n",
       "                    timestamp  Analyst_Average_Score  Analyst_Rank  \\\n",
       "0  2021-09-09T18:17:46.258006                    0.0             4   \n",
       "\n",
       "   Reference_Final_Score  \n",
       "0                   1.96  "
      ]
     },
     "execution_count": 13,
     "metadata": {},
     "output_type": "execute_result"
    }
   ],
   "source": [
    "# look at data\n",
    "df.head(1)"
   ]
  },
  {
   "cell_type": "code",
   "execution_count": 14,
   "metadata": {},
   "outputs": [
    {
     "data": {
      "text/plain": [
       "(10, 9)"
      ]
     },
     "execution_count": 14,
     "metadata": {},
     "output_type": "execute_result"
    }
   ],
   "source": [
    "df.shape"
   ]
  },
  {
   "cell_type": "code",
   "execution_count": 17,
   "metadata": {},
   "outputs": [],
   "source": [
    "# df.index()"
   ]
  },
  {
   "cell_type": "code",
   "execution_count": 20,
   "metadata": {},
   "outputs": [],
   "source": [
    "# create a sample dataset\n",
    "num_examples = 5\n",
    "df_sample = df.sample(num_examples)"
   ]
  },
  {
   "cell_type": "code",
   "execution_count": 22,
   "metadata": {},
   "outputs": [],
   "source": [
    "# split into training and testing sets\n",
    "# we set the 'Body' column as the prompt and the 'Analyst_Average_Score' col as the target variable\n",
    "sentences_train, sentences_test, labels_train, labels_test = train_test_split(list(df_sample['Body']), \n",
    "                                                                list(df_sample['Analyst_Average_Score']), \n",
    "                                                                test_size=0.25, \n",
    "                                                                random_state=0)"
   ]
  },
  {
   "cell_type": "markdown",
   "metadata": {},
   "source": [
    "### Getting the embeddings of the item content"
   ]
  },
  {
   "cell_type": "code",
   "execution_count": 48,
   "metadata": {},
   "outputs": [],
   "source": [
    "# connecting to the api\n",
    "api_key = \"MI6N12pjjldS65peoYcrjTUBegNDGLWPz2t5OIU9\" # generated a new api key while i figure out how to use secrets in the yml file\n",
    "\n",
    "# creating and retrieving a cohere API key from os.cohere.ai\n",
    "co = cohere.Client(api_key)"
   ]
  },
  {
   "cell_type": "code",
   "execution_count": 49,
   "metadata": {},
   "outputs": [],
   "source": [
    "# embed the training set\n",
    "embeddings_train = co.embed(texts=sentences_train,\n",
    "                             model=\"large\",\n",
    "                             truncate=\"LEFT\").embeddings\n",
    "# embed the testing set\n",
    "embeddings_test = co.embed(texts=sentences_test,\n",
    "                             model=\"large\",\n",
    "                             truncate=\"LEFT\").embeddings"
   ]
  },
  {
   "cell_type": "markdown",
   "metadata": {},
   "source": [
    "We have not created 2 sets of embeddings:\n",
    "<li> embeddings_train - contains embeddings of the training sentences\n",
    "<li> embeddings_test - contains embeddings of the testing sentences"
   ]
  },
  {
   "cell_type": "code",
   "execution_count": 50,
   "metadata": {},
   "outputs": [
    {
     "name": "stdout",
     "output_type": "stream",
     "text": [
      "Review text: Boris Johnson using a taxpayer-funded jet for an election campaign fits a long history of taking things he didn't pay for A biographer of Johnson and a former colleague said that Johnson's flight to Hartlepool in an election campaign is totally in character. - Boris Johnson flew in a tax-funded private jet to campaign in the Hartlepool by-election. - The trip may have breached ministerial rules, though officials are reluctant to investigate. - Skirting rules and taking freebies is typical of Johnson, as those close to him have noted. - [See more stories on Insider's business page] . Evacuating yourself into Afghanistan is an unusual move, but one that Boris Johnson made anyway. In June 2018, on the day of a crucial vote on the expansion of London's Heathrow airport, the then-foreign secretary discovered he had urgent business in Kabul, placing him more than 3,500 miles from parliament. Had Johnson been in Westminster, he would have faced a choice: follow Prime Minister Theresa May's instructions to vote with the government in support of the new runway, or resign and fulfil the promise he made on his election in 2015, to \"lie down in front of those bulldozers and stop the construction of that third runway\". Johnson spent less than a day in Kabul. But the trip cost taxpayers £26,848. More importantly for Johnson, the 3,500-mile journey got him off the hook, in a classic example of what one of his biographers calls his \"disregard for the spirit and sometimes the letter of the rules\". A private plane, a motorcade of four cars, and a police escort Almost three years later, on April Fools' Day 2021, Johnson was on a plane again, flying from London Stansted to Teesside International in the northeast of England. Planespotters captured Johnson's private government jet arriving. The plane is chartered by his government under a [£15-million-a-year contract]( ) , and is emblazoned with \"United Kingdom\" on the side and the Union Jack on the tailfin. Video shows Johnson departing the plane with a motorcade of four cars and a police motorcycle escort. He left for Middlesbrough, nine miles from the airport. Johnson's business in Middlesbrough was at B&Q, a DIY store, to celebrate his government's policy of increasing the National Minimum Wage. But after his official visit, he was driven the short distance from Middlesbrough to an industrial estate outside Hartlepool. Tense campaigning, dirty tricks, and outré stunts Hartlepool was in the middle of a parliamentary by-election triggered by the resignation of Mike Hill, the latest in a long line of Labour MPs to represent the town. In Britain, by-elections are occasional spectacles that feature tense campaigning and dirty tricks. Parties will flood even \"safe\" by-election seats with volunteers and staff - because by-elections often trigger a protest vote that can upset decades of tradition. They also feature rafts of novelty candidates attracted by the media attention and the opportunity to stand shoulder-to-shoulder with the more favoured candidates when the results are read out live on TV. [Johnson himself had been forced to stand next to Lord Buckethead, Elmo, and Count Binface]( ) to hear the results of the 2019 vote in his constituency.) For the Conservatives, Hartlepool was a crucial test. Nearly 17 months since their huge win in the 2019 general election, was Johnson still popular enough to flip Labour's heartlands and turn them blue? It is highly unusual for a governing party to flip a seat: it has only happened five times since the end of World War II, each time from Labour to the Conservatives. It was with his typical gusto that Johnson met the Conservative candidate, Jill Mortimer, at a medical equipment manufacturer on the industrial estate, telling the media that she was a \"fantastic candidate\" and the by-election was a \"moment of change and opportunity\". After their visit, they went to a nearby housing estate, posed for photographs with tradesmen, delivered leaflets, and filmed with Ben Houchen, the Conservative Party candidate for the Tees Valley mayoral election, which was going on at the same time. Photos of Mortimer with Johnson from the visit were later used in further leaflets telling constituents that \"your vote can secure positive change in Hartlepool\", as seen in [a tweet by Tory MP Chris Pincher]( ) . Johnson's time in Hartlepool was plainly an act of political campaigning. On May 6, both Conservative candidates won their races: Mortimer and Houchen were elected as MP and mayor respectively. 'Nil' on transport A month later, the Conservatives' election agent, Diane Clarke, signed and submitted the party's candidate spending returns, a legal record of expenses incurred during the election. Insider acquired a copy of the spending returns for all the major parties in the Hartlepool by-election. There were some interesting points: Labour spent nearly £900 on flyers covered in St. George's Flag, its latest in a series of tortured attempt to demonstrate its patriotism. Reform UK (the successor to Nigel Farage's Brexit Party) spent more than £20,000 but received only 368 votes. And the Conservative Party said it had spent \"nil\" on transport. Johnson had carried off a trick of his own: he used a private jet and had everyone else pay for it. 'He knows he can be brazen, he has been all his life, because persistently he gets away with it' The Ministerial Code is the handbook describing how ministers should behave. One recent change has been the end of the convention that ministers who breach the Ministerial Code should resign. Among the rules set out in the Code is a requirement that ministers do not use government resources for party political purposes. Another is that \"where a visit is a mix of political and official engagements, it is important that the department and the Party each meet a proper proportion of the actual cost\". Given Johnson travelled to Teesside for a political and an official engagement, the Conservative Party's claim to have spent nothing on transport suggests the taxpayer paid the full costs of Johnson's trip, breaching the rules. Sonia Purnell wrote a biography of Johnson in 2011, having worked with him early in his career as a journalist. She says this is typical of him. \"This raises the usual questions about Boris Johnson's disregard for the spirit and sometimes the letter of the rules,\" she told Insider. \"The fact is he knows he can be brazen, he has been all his life, because persistently he gets away with it.\" \"What surprises and depresses me is that the rules that should apply most of all to the Prime Minister in this country do not seem to be any longer enforced or observed. This is a sad thing for the country as a whole, that we no longer consider fair play to be part of our national character and ambition.\" 'That claim is essentially implausible' The Conservative Party has, throughout, denied wrongdoing. Initially, when asked whether the party had met the proper proportion of costs, a spokesperson told Insider: \"Tours and associated costs [...] were all declared in accordance with the rules and feature on the return under 'Staff Costs.'\" \"All candidate election expenses were included in the return made in accordance with the Representation of the People Act,\" the party said, referring to a piece of UK election legislation. Requests for a breakdown of the staff costs expenditure went unanswered. In later statements, the party continued to insist it covered \"all relevant costs\". A spokesperson told Insider: \"CCHQ [Conservative Campaign Headquarters] covered all relevant costs associated with the political visit on 1st April in accordance with the Ministerial Code, and reported relevant candidate spending in accordance with the Representation of the People's Act 1983.\" \"The Prime Minister's air travel to Middlesbrough was a Government organised flight, carrying the PM and civil servants to an officially organised, Government visit. It was unrelated to CCHQ campaigning activity and did not promote candidates.\" The party's argument is that it was a happy coincidence Johnson flew to the closest airport to Hartlepool for official business. The party did not explain how the phrase \"did not promote candidates\" applied to Johnson's appearance that day to promote both candidates. 'There appears to be no doubt at all that the Prime Minister breached the code' In 2001, Johnson hired the journalist Peter Oborne as political editor at The Spectator. Oborne is now a staunch critic of Johnson. Earlier this year he published a book on Johnson titled, \"The Assault on Truth: Boris Johnson, Donald Trump and the Emergence of a New Moral Barbarism\". \"The Conservative Party says that the flight was only commissioned as part of an official government visit, that claim is essentially implausible - the Prime Minister campaigned while he was there. There's footage of him doing so,\" Oborne told Insider. \"Boris Johnson has a long record of contempt for the ministerial code. Just look at the series of false statements he's made in defiance of the code to Parliament. Judging by the facts exposed by Insider, there appears to be no doubt at all that the Prime Minister breached the code.\" Johnson has a track record of accepting freebies The government has consistently denied wrongdoing, and suggest Johnson's visit was part of his \"levelling up agenda\". Chloe Smith MP, Minister of State for the Constitution and Devolution, told Insider: \"All travel by the Prime Minister was in line with the provisions of the Ministerial Code, and all the appropriate rules were correctly followed in relation to the costs of the subsequent political visit. \"As part of the Government's levelling up agenda, it's entirely right that Ministers meet and listen to people in every part of the United Kingdom.\" Downing Street has pointed to another part of the Ministerial Code which says the Prime Minister \"may use their official cars for all journeys by road, including those for private or Party purposes.\" [Anneliese Dodds MP, the chair of the Labour Party]( ) , wrote to her counterpart, Amanda Milling MP, co-chair of the Conservative Party, unconvinced by Downing Street's defence. \"That is interesting, but unless the Prime Minister taxied his plane up the M1 in order to reach Hartlepool - and I am perfectly happy to be corrected if it transpires that was the case - then I fail to see the relevance,\" she said. Flying a chartered jet is expensive. One quote for the aircraft Johnson flew in from Stansted to Teesside suggests a cost of £120,000, according to [the charter website PrivateFly]( ) . Election spending in the UK is strictly controlled by law: the total spending limit in a by-election for each candidate is £100,000. Johnson has a track record of accepting freebies without asking too many questions. They include: - A [£52,802 Downing Street flat refurbishment] , initially paid for by Tory donor Lord Brownlow and later paid back by Johnson, which is currently under investigation by the Electoral Commission. - [His £15,000 Caribbean holiday in late 2019] , paid for by Tory donor David Ross. - And [more than £27,000 worth of organic food and drink] delivered to Downing Street, offered at below regular cost by the wife of a Tory donor, Lady Bamford. Downing Street insisted that Johnson pays for all his own food. Police are 'reviewing correspondence' - but the Prime Minister's independent adviser won't investigate In the UK, questions over candidate spending at a local level are not handled by the Electoral Commission, the regulator responsible for monitoring national political financing and expenditure. Instead, local police forces are responsible for investigating potential breaches of the main piece of legislation that covers candidate expenditure. Breaches can range from undeclared donations and spending to going over the spending limit. Following Insider's reporting, [Cleveland Police confirmed it had seen recent media reports]( ) and was \"reviewing correspondence\". The police have no powers to investigate breaches of the Ministerial Code. That power is in the hands of the Prime Minister, who can ask his independent adviser on ministers' interests to investigate, working with the top civil servant, the Cabinet Secretary. But Lord Geidt, the independent adviser, [denied a request by the Labour Party to investigate the matter]( ) . In his letter refusing the request, Geidt said that \"the application of election spending law is a matter for the political parties concerned and the Electoral Commission.\" His response ignores that potential breaches of laws covering candidate spending are matters for the police, not the Electoral Commission. Oborne said the refusal to investigate was \"baffling\". \"Lord Geidt seems not to understand the rules on by-election spending. This basic failure of comprehension means it is impossible for Lord Geidt to reach an independent judgment. He is taking the government's explanation at face value,\" Oborne told Insider. \"This failure to investigate also reflects very badly on [Cabinet Secretary] Simon Case. There are very serious questions about abuse of taxpayers' money which is a clear breach of the code. It is really welcome that the local police are reviewing correspondence on this issue. But these questions should go higher up than that. Simon Case, the Cabinet Secretary, should not permit abuse of taxpayers' money in this way, and should be a guardian of civil service neutrality. \"There is now a clear pattern of Boris Johnson and other cabinet ministers breaking the Ministerial Code on a systematic basis,\" Oborne concluded. \"It's almost as if the Ministerial Code does not exist.\" [Business Insider]\n",
      "Embedding vector: [-4.2055926, 0.25826657, -0.854879, 1.1098926, -1.0675018, 0.047982913, 0.28620866, -0.13467175, -0.62596774, -0.6487842]\n"
     ]
    }
   ],
   "source": [
    "# to see what an embedding looks like\n",
    "print(f\"Review text: {sentences_train[0]}\")\n",
    "print(f\"Embedding vector: {embeddings_train[0][:10]}\")"
   ]
  },
  {
   "cell_type": "markdown",
   "metadata": {},
   "source": [
    "### Training a classifier using the training set"
   ]
  },
  {
   "cell_type": "code",
   "execution_count": 51,
   "metadata": {},
   "outputs": [],
   "source": [
    "# # import SVM classifier code\n",
    "# from sklearn.svm import SVC\n",
    "# from sklearn.pipeline import make_pipeline\n",
    "# from sklearn.preprocessing import StandardScaler\n",
    "\n",
    "\n",
    "# # Initialize a support vector machine, with class_weight='balanced' because \n",
    "# # our training set has roughly an equal amount of positive and negative \n",
    "# # sentiment sentences\n",
    "# svm_classifier = make_pipeline(StandardScaler(), SVC(class_weight='balanced')) \n",
    "\n",
    "# # fit the support vector machine\n",
    "# svm_classifier.fit(embeddings_train, labels_train)"
   ]
  },
  {
   "cell_type": "markdown",
   "metadata": {},
   "source": [
    "### Evaluate the performance of the classifier on the testing set"
   ]
  },
  {
   "cell_type": "code",
   "execution_count": 52,
   "metadata": {},
   "outputs": [],
   "source": [
    "# get the score from the test set, and print it out to screen!\n",
    "# score = svm_classifier.score(embeddings_test, labels_test)\n",
    "# print(f\"Validation accuracy on Large is {100*score}%!\")"
   ]
  },
  {
   "cell_type": "markdown",
   "metadata": {},
   "source": [
    "## 2. DeepAI\n",
    "The API we will try to use will be the Text to Image API. <br>\n",
    "This API creates an image from scratch from a text description"
   ]
  },
  {
   "cell_type": "code",
   "execution_count": 30,
   "metadata": {},
   "outputs": [
    {
     "name": "stdout",
     "output_type": "stream",
     "text": [
      "{'status': 'Out of free credits - please enter payment info in your dashboard: https://deepai.org/dashboard'}\n",
      "{'status': 'Out of free credits - please enter payment info in your dashboard: https://deepai.org/dashboard'}\n"
     ]
    }
   ],
   "source": [
    "# importing libraries\n",
    "\n",
    "# Example posting a text URL:\n",
    "\n",
    "import requests\n",
    "r = requests.post(\n",
    "    \"https://api.deepai.org/api/text2img\",\n",
    "    data={\n",
    "        'text': 'Example: posting a text URL',\n",
    "    },\n",
    "    headers={'api-key': '7f2f6ce1-98c4-404d-9e6f-ce0a8e65ea72'}\n",
    ")\n",
    "print(r.json())\n",
    "\n",
    "\n",
    "# Example posting a local text file:\n",
    "\n",
    "# import requests\n",
    "# r = requests.post(\n",
    "#     \"https://api.deepai.org/api/text2img\",\n",
    "#     files={\n",
    "#         'text': open('/path/to/your/file.txt', 'rb'),\n",
    "#     },\n",
    "#     headers={'api-key': '7f2f6ce1-98c4-404d-9e6f-ce0a8e65ea72'}\n",
    "# )\n",
    "# print(r.json())\n",
    "\n",
    "\n",
    "# Example directly sending a text string:\n",
    "\n",
    "import requests\n",
    "r = requests.post(\n",
    "    \"https://api.deepai.org/api/text2img\",\n",
    "    data={\n",
    "        'text': 'Example: directly sending a text string',\n",
    "    },\n",
    "    headers={'api-key': '7f2f6ce1-98c4-404d-9e6f-ce0a8e65ea72'}\n",
    ")\n",
    "print(r.json())"
   ]
  },
  {
   "cell_type": "markdown",
   "metadata": {},
   "source": [
    "Requires payment information for the api to work. Therefore we will skip this API for now."
   ]
  },
  {
   "cell_type": "markdown",
   "metadata": {},
   "source": [
    "## 3. Muse by LightOn\n",
    "\n",
    "Requires payment info to be able to use the api as well. We'll skip this one as well."
   ]
  },
  {
   "cell_type": "markdown",
   "metadata": {},
   "source": [
    "## 4. BLOOM\n",
    "Using the huggingface space. "
   ]
  }
 ],
 "metadata": {
  "kernelspec": {
   "display_name": "Python 3.10.4 64-bit",
   "language": "python",
   "name": "python3"
  },
  "language_info": {
   "codemirror_mode": {
    "name": "ipython",
    "version": 3
   },
   "file_extension": ".py",
   "mimetype": "text/x-python",
   "name": "python",
   "nbconvert_exporter": "python",
   "pygments_lexer": "ipython3",
   "version": "3.10.4"
  },
  "orig_nbformat": 4,
  "vscode": {
   "interpreter": {
    "hash": "916dbcbb3f70747c44a77c7bcd40155683ae19c65e1c03b4aa3499c5328201f1"
   }
  }
 },
 "nbformat": 4,
 "nbformat_minor": 2
}
